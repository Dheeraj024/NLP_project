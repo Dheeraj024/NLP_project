{
  "cells": [
    {
      "cell_type": "markdown",
      "metadata": {
        "papermill": {
          "duration": 0.114388,
          "end_time": "2020-12-21T10:10:51.03622",
          "exception": false,
          "start_time": "2020-12-21T10:10:50.921832",
          "status": "completed"
        },
        "tags": [],
        "id": "ui93Rtuynvud"
      },
      "source": [
        "# ================Fake News Classification==============="
      ]
    },
    {
      "cell_type": "code",
      "source": [
        "from google.colab import drive\n",
        "drive.mount('/content/drive')"
      ],
      "metadata": {
        "colab": {
          "base_uri": "https://localhost:8080/"
        },
        "id": "zatmOX4lnyVK",
        "outputId": "4dc40cb5-3976-441d-e22e-30ef24833be9"
      },
      "execution_count": null,
      "outputs": [
        {
          "output_type": "stream",
          "name": "stdout",
          "text": [
            "Drive already mounted at /content/drive; to attempt to forcibly remount, call drive.mount(\"/content/drive\", force_remount=True).\n"
          ]
        }
      ]
    },
    {
      "cell_type": "markdown",
      "metadata": {
        "papermill": {
          "duration": 0.096527,
          "end_time": "2020-12-21T10:10:51.860615",
          "exception": false,
          "start_time": "2020-12-21T10:10:51.764088",
          "status": "completed"
        },
        "tags": [],
        "id": "jyBeCVwynvuf"
      },
      "source": [
        "# Importing Libraries"
      ]
    },
    {
      "cell_type": "code",
      "execution_count": null,
      "metadata": {
        "execution": {
          "iopub.execute_input": "2021-08-15T10:06:29.825506Z",
          "iopub.status.busy": "2021-08-15T10:06:29.825147Z",
          "iopub.status.idle": "2021-08-15T10:06:31.625951Z",
          "shell.execute_reply": "2021-08-15T10:06:31.625189Z",
          "shell.execute_reply.started": "2021-08-15T10:06:29.825472Z"
        },
        "papermill": {
          "duration": 2.042183,
          "end_time": "2020-12-21T10:10:53.999926",
          "exception": false,
          "start_time": "2020-12-21T10:10:51.957743",
          "status": "completed"
        },
        "tags": [],
        "colab": {
          "base_uri": "https://localhost:8080/"
        },
        "id": "jHUF8lIBnvug",
        "outputId": "7a9af8ed-bc31-41b7-d7f8-12a04c43e3d3"
      },
      "outputs": [
        {
          "output_type": "stream",
          "name": "stderr",
          "text": [
            "[nltk_data] Downloading package stopwords to /root/nltk_data...\n",
            "[nltk_data]   Package stopwords is already up-to-date!\n"
          ]
        }
      ],
      "source": [
        "# Importing necessary libraries\n",
        "import pandas as pd  # For data manipulation and analysis\n",
        "import numpy as np  # For numerical computations\n",
        "import matplotlib.pyplot as plt  # For creating visualizations\n",
        "import seaborn as sns  # For creating more advanced visualizations\n",
        "from nltk.tokenize import RegexpTokenizer  # For tokenizing text\n",
        "from collections import Counter  # For counting occurrences of elements in a list\n",
        "from sklearn import preprocessing  # For data preprocessing and scaling\n",
        "import re  # For regular expressions, used for text processing\n",
        "from wordcloud import WordCloud  # For generating word clouds\n",
        "import nltk  # Natural Language Toolkit for text processing tasks\n",
        "import string  # For string manipulation operations\n",
        "from nltk.corpus import stopwords  # For NLTK's stopwords\n",
        "nltk.download(\"stopwords\")  # Downloading NLTK's stopwords data\n",
        "import matplotlib.cm as cm  # For colormap settings in visualizations\n",
        "from matplotlib import rcParams  # For customizing plot settings\n",
        "%matplotlib inline\n",
        "import warnings  # For managing warnings\n",
        "warnings.filterwarnings(\"ignore\")  # To ignore displaying warnings in the output\n"
      ]
    },
    {
      "cell_type": "markdown",
      "metadata": {
        "papermill": {
          "duration": 0.13333,
          "end_time": "2020-12-21T10:10:54.231489",
          "exception": false,
          "start_time": "2020-12-21T10:10:54.098159",
          "status": "completed"
        },
        "tags": [],
        "id": "r0l7L_3knvug"
      },
      "source": [
        "# Loading  Dataset"
      ]
    },
    {
      "cell_type": "code",
      "execution_count": null,
      "metadata": {
        "execution": {
          "iopub.execute_input": "2021-08-15T10:06:33.990001Z",
          "iopub.status.busy": "2021-08-15T10:06:33.989681Z",
          "iopub.status.idle": "2021-08-15T10:06:36.349370Z",
          "shell.execute_reply": "2021-08-15T10:06:36.348405Z",
          "shell.execute_reply.started": "2021-08-15T10:06:33.989972Z"
        },
        "papermill": {
          "duration": 0.163585,
          "end_time": "2020-12-21T10:10:54.531566",
          "exception": false,
          "start_time": "2020-12-21T10:10:54.367981",
          "status": "completed"
        },
        "tags": [],
        "id": "p10KWRoVnvuh"
      },
      "outputs": [],
      "source": [
        "# Reading the 'True' CSV file into a DataFrame named 'true'\n",
        "true = pd.read_csv('/content/drive/MyDrive/Fake news detection /Nazish Khan/True (1).csv')\n",
        "\n",
        "# Reading the 'Fake' CSV file into a DataFrame named 'fake'\n",
        "fake = pd.read_csv('/content/drive/MyDrive/Fake news detection /Nazish Khan/Fake (1).csv')"
      ]
    },
    {
      "cell_type": "markdown",
      "metadata": {
        "id": "skEGXPvMnvuh"
      },
      "source": [
        "## Combining the true and fake news"
      ]
    },
    {
      "cell_type": "code",
      "execution_count": null,
      "metadata": {
        "execution": {
          "iopub.execute_input": "2021-08-15T10:06:36.908031Z",
          "iopub.status.busy": "2021-08-15T10:06:36.907704Z",
          "iopub.status.idle": "2021-08-15T10:06:36.936540Z",
          "shell.execute_reply": "2021-08-15T10:06:36.935595Z",
          "shell.execute_reply.started": "2021-08-15T10:06:36.908000Z"
        },
        "id": "dsAzyICxnvuh"
      },
      "outputs": [],
      "source": [
        "# Adding a new column 'label' with value 'fake' to the 'true' DataFrame\n",
        "true['label'] = 'fake'\n",
        "\n",
        "# Adding a new column 'label' with value 'true' to the 'fake' DataFrame\n",
        "fake['label'] = 'true'\n",
        "\n",
        "# Concatenating the 'true' and 'fake' DataFrames vertically (along axis 0)\n",
        "# This combines the two DataFrames into a single DataFrame named 'data'\n",
        "# The 'data' DataFrame will have all the rows from 'true' DataFrame followed by all the rows from 'fake' DataFrame\n",
        "data = pd.concat([true, fake], axis=0)"
      ]
    },
    {
      "cell_type": "code",
      "execution_count": null,
      "metadata": {
        "execution": {
          "iopub.execute_input": "2021-08-15T10:06:38.910527Z",
          "iopub.status.busy": "2021-08-15T10:06:38.910074Z",
          "iopub.status.idle": "2021-08-15T10:06:38.931681Z",
          "shell.execute_reply": "2021-08-15T10:06:38.930659Z",
          "shell.execute_reply.started": "2021-08-15T10:06:38.910470Z"
        },
        "papermill": {
          "duration": 0.122578,
          "end_time": "2020-12-21T10:10:54.74934",
          "exception": false,
          "start_time": "2020-12-21T10:10:54.626762",
          "status": "completed"
        },
        "scrolled": true,
        "tags": [],
        "colab": {
          "base_uri": "https://localhost:8080/"
        },
        "id": "_QDE1E3Bnvuh",
        "outputId": "ba157bd2-3215-4959-e1d3-752e50ae6988"
      },
      "outputs": [
        {
          "output_type": "execute_result",
          "data": {
            "text/plain": [
              "(44898, 1)"
            ]
          },
          "metadata": {},
          "execution_count": 72
        }
      ],
      "source": [
        "data.head()\n",
        "data.shape"
      ]
    },
    {
      "cell_type": "markdown",
      "metadata": {
        "papermill": {
          "duration": 0.096455,
          "end_time": "2020-12-21T10:10:55.56571",
          "exception": false,
          "start_time": "2020-12-21T10:10:55.469255",
          "status": "completed"
        },
        "tags": [],
        "id": "8wbXONcBnvui"
      },
      "source": [
        "# Selection of the interested columns for feature extraction"
      ]
    },
    {
      "cell_type": "code",
      "execution_count": null,
      "metadata": {
        "execution": {
          "iopub.execute_input": "2021-08-15T10:06:42.208093Z",
          "iopub.status.busy": "2021-08-15T10:06:42.207738Z",
          "iopub.status.idle": "2021-08-15T10:06:42.218154Z",
          "shell.execute_reply": "2021-08-15T10:06:42.217270Z",
          "shell.execute_reply.started": "2021-08-15T10:06:42.208054Z"
        },
        "papermill": {
          "duration": 0.11041,
          "end_time": "2020-12-21T10:10:55.773573",
          "exception": false,
          "start_time": "2020-12-21T10:10:55.663163",
          "status": "completed"
        },
        "tags": [],
        "id": "SD19D-dknvui"
      },
      "outputs": [],
      "source": [
        "data=data[['text','label']]"
      ]
    },
    {
      "cell_type": "code",
      "execution_count": null,
      "metadata": {
        "execution": {
          "iopub.execute_input": "2021-08-15T10:06:44.165589Z",
          "iopub.status.busy": "2021-08-15T10:06:44.165220Z",
          "iopub.status.idle": "2021-08-15T10:06:44.177397Z",
          "shell.execute_reply": "2021-08-15T10:06:44.176353Z",
          "shell.execute_reply.started": "2021-08-15T10:06:44.165559Z"
        },
        "papermill": {
          "duration": 0.112273,
          "end_time": "2020-12-21T10:10:55.984075",
          "exception": false,
          "start_time": "2020-12-21T10:10:55.871802",
          "status": "completed"
        },
        "tags": [],
        "colab": {
          "base_uri": "https://localhost:8080/",
          "height": 206
        },
        "id": "dlt27CVQnvui",
        "outputId": "1107b165-f714-4b6b-d8e8-900162d31bb7"
      },
      "outputs": [
        {
          "output_type": "execute_result",
          "data": {
            "text/plain": [
              "                                                text label\n",
              "0  WASHINGTON (Reuters) - The head of a conservat...  fake\n",
              "1  WASHINGTON (Reuters) - Transgender people will...  fake\n",
              "2  WASHINGTON (Reuters) - The special counsel inv...  fake\n",
              "3  WASHINGTON (Reuters) - Trump campaign adviser ...  fake\n",
              "4  SEATTLE/WASHINGTON (Reuters) - President Donal...  fake"
            ],
            "text/html": [
              "\n",
              "\n",
              "  <div id=\"df-f74812bc-07f0-4e85-986c-6755b93a2c5c\">\n",
              "    <div class=\"colab-df-container\">\n",
              "      <div>\n",
              "<style scoped>\n",
              "    .dataframe tbody tr th:only-of-type {\n",
              "        vertical-align: middle;\n",
              "    }\n",
              "\n",
              "    .dataframe tbody tr th {\n",
              "        vertical-align: top;\n",
              "    }\n",
              "\n",
              "    .dataframe thead th {\n",
              "        text-align: right;\n",
              "    }\n",
              "</style>\n",
              "<table border=\"1\" class=\"dataframe\">\n",
              "  <thead>\n",
              "    <tr style=\"text-align: right;\">\n",
              "      <th></th>\n",
              "      <th>text</th>\n",
              "      <th>label</th>\n",
              "    </tr>\n",
              "  </thead>\n",
              "  <tbody>\n",
              "    <tr>\n",
              "      <th>0</th>\n",
              "      <td>WASHINGTON (Reuters) - The head of a conservat...</td>\n",
              "      <td>fake</td>\n",
              "    </tr>\n",
              "    <tr>\n",
              "      <th>1</th>\n",
              "      <td>WASHINGTON (Reuters) - Transgender people will...</td>\n",
              "      <td>fake</td>\n",
              "    </tr>\n",
              "    <tr>\n",
              "      <th>2</th>\n",
              "      <td>WASHINGTON (Reuters) - The special counsel inv...</td>\n",
              "      <td>fake</td>\n",
              "    </tr>\n",
              "    <tr>\n",
              "      <th>3</th>\n",
              "      <td>WASHINGTON (Reuters) - Trump campaign adviser ...</td>\n",
              "      <td>fake</td>\n",
              "    </tr>\n",
              "    <tr>\n",
              "      <th>4</th>\n",
              "      <td>SEATTLE/WASHINGTON (Reuters) - President Donal...</td>\n",
              "      <td>fake</td>\n",
              "    </tr>\n",
              "  </tbody>\n",
              "</table>\n",
              "</div>\n",
              "      <button class=\"colab-df-convert\" onclick=\"convertToInteractive('df-f74812bc-07f0-4e85-986c-6755b93a2c5c')\"\n",
              "              title=\"Convert this dataframe to an interactive table.\"\n",
              "              style=\"display:none;\">\n",
              "\n",
              "  <svg xmlns=\"http://www.w3.org/2000/svg\" height=\"24px\"viewBox=\"0 0 24 24\"\n",
              "       width=\"24px\">\n",
              "    <path d=\"M0 0h24v24H0V0z\" fill=\"none\"/>\n",
              "    <path d=\"M18.56 5.44l.94 2.06.94-2.06 2.06-.94-2.06-.94-.94-2.06-.94 2.06-2.06.94zm-11 1L8.5 8.5l.94-2.06 2.06-.94-2.06-.94L8.5 2.5l-.94 2.06-2.06.94zm10 10l.94 2.06.94-2.06 2.06-.94-2.06-.94-.94-2.06-.94 2.06-2.06.94z\"/><path d=\"M17.41 7.96l-1.37-1.37c-.4-.4-.92-.59-1.43-.59-.52 0-1.04.2-1.43.59L10.3 9.45l-7.72 7.72c-.78.78-.78 2.05 0 2.83L4 21.41c.39.39.9.59 1.41.59.51 0 1.02-.2 1.41-.59l7.78-7.78 2.81-2.81c.8-.78.8-2.07 0-2.86zM5.41 20L4 18.59l7.72-7.72 1.47 1.35L5.41 20z\"/>\n",
              "  </svg>\n",
              "      </button>\n",
              "\n",
              "\n",
              "\n",
              "    <div id=\"df-02c8f507-3a60-42f8-9ce1-769d92d93e3b\">\n",
              "      <button class=\"colab-df-quickchart\" onclick=\"quickchart('df-02c8f507-3a60-42f8-9ce1-769d92d93e3b')\"\n",
              "              title=\"Suggest charts.\"\n",
              "              style=\"display:none;\">\n",
              "\n",
              "<svg xmlns=\"http://www.w3.org/2000/svg\" height=\"24px\"viewBox=\"0 0 24 24\"\n",
              "     width=\"24px\">\n",
              "    <g>\n",
              "        <path d=\"M19 3H5c-1.1 0-2 .9-2 2v14c0 1.1.9 2 2 2h14c1.1 0 2-.9 2-2V5c0-1.1-.9-2-2-2zM9 17H7v-7h2v7zm4 0h-2V7h2v10zm4 0h-2v-4h2v4z\"/>\n",
              "    </g>\n",
              "</svg>\n",
              "      </button>\n",
              "    </div>\n",
              "\n",
              "<style>\n",
              "  .colab-df-quickchart {\n",
              "    background-color: #E8F0FE;\n",
              "    border: none;\n",
              "    border-radius: 50%;\n",
              "    cursor: pointer;\n",
              "    display: none;\n",
              "    fill: #1967D2;\n",
              "    height: 32px;\n",
              "    padding: 0 0 0 0;\n",
              "    width: 32px;\n",
              "  }\n",
              "\n",
              "  .colab-df-quickchart:hover {\n",
              "    background-color: #E2EBFA;\n",
              "    box-shadow: 0px 1px 2px rgba(60, 64, 67, 0.3), 0px 1px 3px 1px rgba(60, 64, 67, 0.15);\n",
              "    fill: #174EA6;\n",
              "  }\n",
              "\n",
              "  [theme=dark] .colab-df-quickchart {\n",
              "    background-color: #3B4455;\n",
              "    fill: #D2E3FC;\n",
              "  }\n",
              "\n",
              "  [theme=dark] .colab-df-quickchart:hover {\n",
              "    background-color: #434B5C;\n",
              "    box-shadow: 0px 1px 3px 1px rgba(0, 0, 0, 0.15);\n",
              "    filter: drop-shadow(0px 1px 2px rgba(0, 0, 0, 0.3));\n",
              "    fill: #FFFFFF;\n",
              "  }\n",
              "</style>\n",
              "\n",
              "    <script>\n",
              "      async function quickchart(key) {\n",
              "        const containerElement = document.querySelector('#' + key);\n",
              "        const charts = await google.colab.kernel.invokeFunction(\n",
              "            'suggestCharts', [key], {});\n",
              "      }\n",
              "    </script>\n",
              "\n",
              "      <script>\n",
              "\n",
              "function displayQuickchartButton(domScope) {\n",
              "  let quickchartButtonEl =\n",
              "    domScope.querySelector('#df-02c8f507-3a60-42f8-9ce1-769d92d93e3b button.colab-df-quickchart');\n",
              "  quickchartButtonEl.style.display =\n",
              "    google.colab.kernel.accessAllowed ? 'block' : 'none';\n",
              "}\n",
              "\n",
              "        displayQuickchartButton(document);\n",
              "      </script>\n",
              "      <style>\n",
              "    .colab-df-container {\n",
              "      display:flex;\n",
              "      flex-wrap:wrap;\n",
              "      gap: 12px;\n",
              "    }\n",
              "\n",
              "    .colab-df-convert {\n",
              "      background-color: #E8F0FE;\n",
              "      border: none;\n",
              "      border-radius: 50%;\n",
              "      cursor: pointer;\n",
              "      display: none;\n",
              "      fill: #1967D2;\n",
              "      height: 32px;\n",
              "      padding: 0 0 0 0;\n",
              "      width: 32px;\n",
              "    }\n",
              "\n",
              "    .colab-df-convert:hover {\n",
              "      background-color: #E2EBFA;\n",
              "      box-shadow: 0px 1px 2px rgba(60, 64, 67, 0.3), 0px 1px 3px 1px rgba(60, 64, 67, 0.15);\n",
              "      fill: #174EA6;\n",
              "    }\n",
              "\n",
              "    [theme=dark] .colab-df-convert {\n",
              "      background-color: #3B4455;\n",
              "      fill: #D2E3FC;\n",
              "    }\n",
              "\n",
              "    [theme=dark] .colab-df-convert:hover {\n",
              "      background-color: #434B5C;\n",
              "      box-shadow: 0px 1px 3px 1px rgba(0, 0, 0, 0.15);\n",
              "      filter: drop-shadow(0px 1px 2px rgba(0, 0, 0, 0.3));\n",
              "      fill: #FFFFFF;\n",
              "    }\n",
              "  </style>\n",
              "\n",
              "      <script>\n",
              "        const buttonEl =\n",
              "          document.querySelector('#df-f74812bc-07f0-4e85-986c-6755b93a2c5c button.colab-df-convert');\n",
              "        buttonEl.style.display =\n",
              "          google.colab.kernel.accessAllowed ? 'block' : 'none';\n",
              "\n",
              "        async function convertToInteractive(key) {\n",
              "          const element = document.querySelector('#df-f74812bc-07f0-4e85-986c-6755b93a2c5c');\n",
              "          const dataTable =\n",
              "            await google.colab.kernel.invokeFunction('convertToInteractive',\n",
              "                                                     [key], {});\n",
              "          if (!dataTable) return;\n",
              "\n",
              "          const docLinkHtml = 'Like what you see? Visit the ' +\n",
              "            '<a target=\"_blank\" href=https://colab.research.google.com/notebooks/data_table.ipynb>data table notebook</a>'\n",
              "            + ' to learn more about interactive tables.';\n",
              "          element.innerHTML = '';\n",
              "          dataTable['output_type'] = 'display_data';\n",
              "          await google.colab.output.renderOutput(dataTable, element);\n",
              "          const docLink = document.createElement('div');\n",
              "          docLink.innerHTML = docLinkHtml;\n",
              "          element.appendChild(docLink);\n",
              "        }\n",
              "      </script>\n",
              "    </div>\n",
              "  </div>\n"
            ]
          },
          "metadata": {},
          "execution_count": 7
        }
      ],
      "source": [
        "data.head()"
      ]
    },
    {
      "cell_type": "markdown",
      "metadata": {
        "papermill": {
          "duration": 0.098454,
          "end_time": "2020-12-21T10:10:56.180347",
          "exception": false,
          "start_time": "2020-12-21T10:10:56.081893",
          "status": "completed"
        },
        "tags": [],
        "id": "JluU1j2Pnvui"
      },
      "source": [
        "# Count of the dataset"
      ]
    },
    {
      "cell_type": "code",
      "execution_count": null,
      "metadata": {
        "execution": {
          "iopub.execute_input": "2021-08-15T10:06:47.413427Z",
          "iopub.status.busy": "2021-08-15T10:06:47.413096Z",
          "iopub.status.idle": "2021-08-15T10:06:47.421230Z",
          "shell.execute_reply": "2021-08-15T10:06:47.418315Z",
          "shell.execute_reply.started": "2021-08-15T10:06:47.413396Z"
        },
        "papermill": {
          "duration": 0.113353,
          "end_time": "2020-12-21T10:10:56.394686",
          "exception": false,
          "start_time": "2020-12-21T10:10:56.281333",
          "status": "completed"
        },
        "tags": [],
        "colab": {
          "base_uri": "https://localhost:8080/"
        },
        "id": "PHyU5WO5nvui",
        "outputId": "36f87882-bb53-498d-c544-d03b653f5b5a"
      },
      "outputs": [
        {
          "output_type": "stream",
          "name": "stdout",
          "text": [
            "Count of the dataset is:  44898\n"
          ]
        }
      ],
      "source": [
        "print('Count of the dataset is: ', len(data))"
      ]
    },
    {
      "cell_type": "markdown",
      "metadata": {
        "papermill": {
          "duration": 0.097921,
          "end_time": "2020-12-21T10:10:56.590753",
          "exception": false,
          "start_time": "2020-12-21T10:10:56.492832",
          "status": "completed"
        },
        "tags": [],
        "id": "SioOCy9Dnvuj"
      },
      "source": [
        "# Dataset analysis and Preprocessing"
      ]
    },
    {
      "cell_type": "markdown",
      "metadata": {
        "papermill": {
          "duration": 0.096892,
          "end_time": "2020-12-21T10:10:56.786555",
          "exception": false,
          "start_time": "2020-12-21T10:10:56.689663",
          "status": "completed"
        },
        "tags": [],
        "id": "Z9xg83LRnvuj"
      },
      "source": [
        "# text text in lower case"
      ]
    },
    {
      "cell_type": "code",
      "execution_count": null,
      "metadata": {
        "execution": {
          "iopub.execute_input": "2021-08-15T10:06:49.948707Z",
          "iopub.status.busy": "2021-08-15T10:06:49.948372Z",
          "iopub.status.idle": "2021-08-15T10:06:50.252385Z",
          "shell.execute_reply": "2021-08-15T10:06:50.251428Z",
          "shell.execute_reply.started": "2021-08-15T10:06:49.948677Z"
        },
        "papermill": {
          "duration": 0.113387,
          "end_time": "2020-12-21T10:10:56.997335",
          "exception": false,
          "start_time": "2020-12-21T10:10:56.883948",
          "status": "completed"
        },
        "tags": [],
        "id": "6KJ-0d56nvuj"
      },
      "outputs": [],
      "source": [
        "data['text']=data['text'].str.lower()"
      ]
    },
    {
      "cell_type": "code",
      "execution_count": null,
      "metadata": {
        "execution": {
          "iopub.execute_input": "2021-08-15T10:06:52.822534Z",
          "iopub.status.busy": "2021-08-15T10:06:52.822116Z",
          "iopub.status.idle": "2021-08-15T10:06:52.829105Z",
          "shell.execute_reply": "2021-08-15T10:06:52.828140Z",
          "shell.execute_reply.started": "2021-08-15T10:06:52.822499Z"
        },
        "papermill": {
          "duration": 0.119297,
          "end_time": "2020-12-21T10:10:57.216313",
          "exception": false,
          "start_time": "2020-12-21T10:10:57.097016",
          "status": "completed"
        },
        "tags": [],
        "colab": {
          "base_uri": "https://localhost:8080/"
        },
        "id": "0GQSWkuznvuj",
        "outputId": "a1025f37-e396-4071-9a4b-50e5b63ae9ed"
      },
      "outputs": [
        {
          "output_type": "execute_result",
          "data": {
            "text/plain": [
              "0    washington (reuters) - the head of a conservat...\n",
              "1    washington (reuters) - transgender people will...\n",
              "2    washington (reuters) - the special counsel inv...\n",
              "3    washington (reuters) - trump campaign adviser ...\n",
              "4    seattle/washington (reuters) - president donal...\n",
              "Name: text, dtype: object"
            ]
          },
          "metadata": {},
          "execution_count": 10
        }
      ],
      "source": [
        "data['text'].head()"
      ]
    },
    {
      "cell_type": "markdown",
      "metadata": {
        "papermill": {
          "duration": 0.101214,
          "end_time": "2020-12-21T10:10:57.415505",
          "exception": false,
          "start_time": "2020-12-21T10:10:57.314291",
          "status": "completed"
        },
        "tags": [],
        "id": "zyoU95mxnvuj"
      },
      "source": [
        "# all columns"
      ]
    },
    {
      "cell_type": "code",
      "execution_count": null,
      "metadata": {
        "execution": {
          "iopub.execute_input": "2021-08-15T10:07:08.167375Z",
          "iopub.status.busy": "2021-08-15T10:07:08.167031Z",
          "iopub.status.idle": "2021-08-15T10:07:08.173131Z",
          "shell.execute_reply": "2021-08-15T10:07:08.172027Z",
          "shell.execute_reply.started": "2021-08-15T10:07:08.167345Z"
        },
        "papermill": {
          "duration": 0.108363,
          "end_time": "2020-12-21T10:10:57.624235",
          "exception": false,
          "start_time": "2020-12-21T10:10:57.515872",
          "status": "completed"
        },
        "tags": [],
        "colab": {
          "base_uri": "https://localhost:8080/"
        },
        "id": "voEwP_Fhnvuj",
        "outputId": "8119e25e-14f7-4195-fdd3-574da311ae1c"
      },
      "outputs": [
        {
          "output_type": "execute_result",
          "data": {
            "text/plain": [
              "Index(['text', 'label'], dtype='object')"
            ]
          },
          "metadata": {},
          "execution_count": 11
        }
      ],
      "source": [
        "data.columns"
      ]
    },
    {
      "cell_type": "markdown",
      "metadata": {
        "papermill": {
          "duration": 0.099599,
          "end_time": "2020-12-21T10:10:57.823238",
          "exception": false,
          "start_time": "2020-12-21T10:10:57.723639",
          "status": "completed"
        },
        "tags": [],
        "id": "6UhGIzrgnvuk"
      },
      "source": [
        "# Unique texts labels"
      ]
    },
    {
      "cell_type": "code",
      "execution_count": null,
      "metadata": {
        "execution": {
          "iopub.execute_input": "2021-08-15T10:07:11.125835Z",
          "iopub.status.busy": "2021-08-15T10:07:11.125489Z",
          "iopub.status.idle": "2021-08-15T10:07:11.135459Z",
          "shell.execute_reply": "2021-08-15T10:07:11.134454Z",
          "shell.execute_reply.started": "2021-08-15T10:07:11.125803Z"
        },
        "papermill": {
          "duration": 0.110185,
          "end_time": "2020-12-21T10:10:58.033395",
          "exception": false,
          "start_time": "2020-12-21T10:10:57.92321",
          "status": "completed"
        },
        "tags": [],
        "colab": {
          "base_uri": "https://localhost:8080/"
        },
        "id": "51y3RSGbnvuk",
        "outputId": "a4f9c4d9-5303-4620-9eee-bec1887a10ae"
      },
      "outputs": [
        {
          "output_type": "execute_result",
          "data": {
            "text/plain": [
              "array(['fake', 'true'], dtype=object)"
            ]
          },
          "metadata": {},
          "execution_count": 12
        }
      ],
      "source": [
        "data['label'].unique()"
      ]
    },
    {
      "cell_type": "markdown",
      "metadata": {
        "papermill": {
          "duration": 0.099183,
          "end_time": "2020-12-21T10:10:58.232711",
          "exception": false,
          "start_time": "2020-12-21T10:10:58.133528",
          "status": "completed"
        },
        "tags": [],
        "id": "wzR9Xirtnvuk"
      },
      "source": [
        "# data types of all columns"
      ]
    },
    {
      "cell_type": "code",
      "execution_count": null,
      "metadata": {
        "execution": {
          "iopub.execute_input": "2021-08-15T10:07:13.965879Z",
          "iopub.status.busy": "2021-08-15T10:07:13.965554Z",
          "iopub.status.idle": "2021-08-15T10:07:13.974855Z",
          "shell.execute_reply": "2021-08-15T10:07:13.973778Z",
          "shell.execute_reply.started": "2021-08-15T10:07:13.965849Z"
        },
        "papermill": {
          "duration": 0.109215,
          "end_time": "2020-12-21T10:10:58.439539",
          "exception": false,
          "start_time": "2020-12-21T10:10:58.330324",
          "status": "completed"
        },
        "tags": [],
        "colab": {
          "base_uri": "https://localhost:8080/"
        },
        "id": "F9SkCNzgnvuk",
        "outputId": "37d73679-f4b5-4fe0-b72f-3284587f2353"
      },
      "outputs": [
        {
          "output_type": "execute_result",
          "data": {
            "text/plain": [
              "text     object\n",
              "label    object\n",
              "dtype: object"
            ]
          },
          "metadata": {},
          "execution_count": 13
        }
      ],
      "source": [
        "data.dtypes"
      ]
    },
    {
      "cell_type": "markdown",
      "metadata": {
        "papermill": {
          "duration": 0.101506,
          "end_time": "2020-12-21T10:10:58.644196",
          "exception": false,
          "start_time": "2020-12-21T10:10:58.54269",
          "status": "completed"
        },
        "tags": [],
        "id": "lR3YGLYrnvuk"
      },
      "source": [
        "# Checking Null values"
      ]
    },
    {
      "cell_type": "code",
      "execution_count": null,
      "metadata": {
        "execution": {
          "iopub.execute_input": "2021-08-15T10:07:15.636222Z",
          "iopub.status.busy": "2021-08-15T10:07:15.635886Z",
          "iopub.status.idle": "2021-08-15T10:07:15.661492Z",
          "shell.execute_reply": "2021-08-15T10:07:15.660829Z",
          "shell.execute_reply.started": "2021-08-15T10:07:15.636193Z"
        },
        "papermill": {
          "duration": 0.116167,
          "end_time": "2020-12-21T10:10:58.862343",
          "exception": false,
          "start_time": "2020-12-21T10:10:58.746176",
          "status": "completed"
        },
        "scrolled": true,
        "tags": [],
        "colab": {
          "base_uri": "https://localhost:8080/",
          "height": 49
        },
        "id": "cEDB73ITnvuk",
        "outputId": "d693a8a9-7146-4688-eace-bfaf45ced93a"
      },
      "outputs": [
        {
          "output_type": "execute_result",
          "data": {
            "text/plain": [
              "Empty DataFrame\n",
              "Columns: [text, label]\n",
              "Index: []"
            ],
            "text/html": [
              "\n",
              "\n",
              "  <div id=\"df-9a2608fa-2512-4985-b88f-5a600e938e7a\">\n",
              "    <div class=\"colab-df-container\">\n",
              "      <div>\n",
              "<style scoped>\n",
              "    .dataframe tbody tr th:only-of-type {\n",
              "        vertical-align: middle;\n",
              "    }\n",
              "\n",
              "    .dataframe tbody tr th {\n",
              "        vertical-align: top;\n",
              "    }\n",
              "\n",
              "    .dataframe thead th {\n",
              "        text-align: right;\n",
              "    }\n",
              "</style>\n",
              "<table border=\"1\" class=\"dataframe\">\n",
              "  <thead>\n",
              "    <tr style=\"text-align: right;\">\n",
              "      <th></th>\n",
              "      <th>text</th>\n",
              "      <th>label</th>\n",
              "    </tr>\n",
              "  </thead>\n",
              "  <tbody>\n",
              "  </tbody>\n",
              "</table>\n",
              "</div>\n",
              "      <button class=\"colab-df-convert\" onclick=\"convertToInteractive('df-9a2608fa-2512-4985-b88f-5a600e938e7a')\"\n",
              "              title=\"Convert this dataframe to an interactive table.\"\n",
              "              style=\"display:none;\">\n",
              "\n",
              "  <svg xmlns=\"http://www.w3.org/2000/svg\" height=\"24px\"viewBox=\"0 0 24 24\"\n",
              "       width=\"24px\">\n",
              "    <path d=\"M0 0h24v24H0V0z\" fill=\"none\"/>\n",
              "    <path d=\"M18.56 5.44l.94 2.06.94-2.06 2.06-.94-2.06-.94-.94-2.06-.94 2.06-2.06.94zm-11 1L8.5 8.5l.94-2.06 2.06-.94-2.06-.94L8.5 2.5l-.94 2.06-2.06.94zm10 10l.94 2.06.94-2.06 2.06-.94-2.06-.94-.94-2.06-.94 2.06-2.06.94z\"/><path d=\"M17.41 7.96l-1.37-1.37c-.4-.4-.92-.59-1.43-.59-.52 0-1.04.2-1.43.59L10.3 9.45l-7.72 7.72c-.78.78-.78 2.05 0 2.83L4 21.41c.39.39.9.59 1.41.59.51 0 1.02-.2 1.41-.59l7.78-7.78 2.81-2.81c.8-.78.8-2.07 0-2.86zM5.41 20L4 18.59l7.72-7.72 1.47 1.35L5.41 20z\"/>\n",
              "  </svg>\n",
              "      </button>\n",
              "\n",
              "\n",
              "\n",
              "    <div id=\"df-c635d627-8137-42c1-963a-782952e7e3c5\">\n",
              "      <button class=\"colab-df-quickchart\" onclick=\"quickchart('df-c635d627-8137-42c1-963a-782952e7e3c5')\"\n",
              "              title=\"Suggest charts.\"\n",
              "              style=\"display:none;\">\n",
              "\n",
              "<svg xmlns=\"http://www.w3.org/2000/svg\" height=\"24px\"viewBox=\"0 0 24 24\"\n",
              "     width=\"24px\">\n",
              "    <g>\n",
              "        <path d=\"M19 3H5c-1.1 0-2 .9-2 2v14c0 1.1.9 2 2 2h14c1.1 0 2-.9 2-2V5c0-1.1-.9-2-2-2zM9 17H7v-7h2v7zm4 0h-2V7h2v10zm4 0h-2v-4h2v4z\"/>\n",
              "    </g>\n",
              "</svg>\n",
              "      </button>\n",
              "    </div>\n",
              "\n",
              "<style>\n",
              "  .colab-df-quickchart {\n",
              "    background-color: #E8F0FE;\n",
              "    border: none;\n",
              "    border-radius: 50%;\n",
              "    cursor: pointer;\n",
              "    display: none;\n",
              "    fill: #1967D2;\n",
              "    height: 32px;\n",
              "    padding: 0 0 0 0;\n",
              "    width: 32px;\n",
              "  }\n",
              "\n",
              "  .colab-df-quickchart:hover {\n",
              "    background-color: #E2EBFA;\n",
              "    box-shadow: 0px 1px 2px rgba(60, 64, 67, 0.3), 0px 1px 3px 1px rgba(60, 64, 67, 0.15);\n",
              "    fill: #174EA6;\n",
              "  }\n",
              "\n",
              "  [theme=dark] .colab-df-quickchart {\n",
              "    background-color: #3B4455;\n",
              "    fill: #D2E3FC;\n",
              "  }\n",
              "\n",
              "  [theme=dark] .colab-df-quickchart:hover {\n",
              "    background-color: #434B5C;\n",
              "    box-shadow: 0px 1px 3px 1px rgba(0, 0, 0, 0.15);\n",
              "    filter: drop-shadow(0px 1px 2px rgba(0, 0, 0, 0.3));\n",
              "    fill: #FFFFFF;\n",
              "  }\n",
              "</style>\n",
              "\n",
              "    <script>\n",
              "      async function quickchart(key) {\n",
              "        const containerElement = document.querySelector('#' + key);\n",
              "        const charts = await google.colab.kernel.invokeFunction(\n",
              "            'suggestCharts', [key], {});\n",
              "      }\n",
              "    </script>\n",
              "\n",
              "      <script>\n",
              "\n",
              "function displayQuickchartButton(domScope) {\n",
              "  let quickchartButtonEl =\n",
              "    domScope.querySelector('#df-c635d627-8137-42c1-963a-782952e7e3c5 button.colab-df-quickchart');\n",
              "  quickchartButtonEl.style.display =\n",
              "    google.colab.kernel.accessAllowed ? 'block' : 'none';\n",
              "}\n",
              "\n",
              "        displayQuickchartButton(document);\n",
              "      </script>\n",
              "      <style>\n",
              "    .colab-df-container {\n",
              "      display:flex;\n",
              "      flex-wrap:wrap;\n",
              "      gap: 12px;\n",
              "    }\n",
              "\n",
              "    .colab-df-convert {\n",
              "      background-color: #E8F0FE;\n",
              "      border: none;\n",
              "      border-radius: 50%;\n",
              "      cursor: pointer;\n",
              "      display: none;\n",
              "      fill: #1967D2;\n",
              "      height: 32px;\n",
              "      padding: 0 0 0 0;\n",
              "      width: 32px;\n",
              "    }\n",
              "\n",
              "    .colab-df-convert:hover {\n",
              "      background-color: #E2EBFA;\n",
              "      box-shadow: 0px 1px 2px rgba(60, 64, 67, 0.3), 0px 1px 3px 1px rgba(60, 64, 67, 0.15);\n",
              "      fill: #174EA6;\n",
              "    }\n",
              "\n",
              "    [theme=dark] .colab-df-convert {\n",
              "      background-color: #3B4455;\n",
              "      fill: #D2E3FC;\n",
              "    }\n",
              "\n",
              "    [theme=dark] .colab-df-convert:hover {\n",
              "      background-color: #434B5C;\n",
              "      box-shadow: 0px 1px 3px 1px rgba(0, 0, 0, 0.15);\n",
              "      filter: drop-shadow(0px 1px 2px rgba(0, 0, 0, 0.3));\n",
              "      fill: #FFFFFF;\n",
              "    }\n",
              "  </style>\n",
              "\n",
              "      <script>\n",
              "        const buttonEl =\n",
              "          document.querySelector('#df-9a2608fa-2512-4985-b88f-5a600e938e7a button.colab-df-convert');\n",
              "        buttonEl.style.display =\n",
              "          google.colab.kernel.accessAllowed ? 'block' : 'none';\n",
              "\n",
              "        async function convertToInteractive(key) {\n",
              "          const element = document.querySelector('#df-9a2608fa-2512-4985-b88f-5a600e938e7a');\n",
              "          const dataTable =\n",
              "            await google.colab.kernel.invokeFunction('convertToInteractive',\n",
              "                                                     [key], {});\n",
              "          if (!dataTable) return;\n",
              "\n",
              "          const docLinkHtml = 'Like what you see? Visit the ' +\n",
              "            '<a target=\"_blank\" href=https://colab.research.google.com/notebooks/data_table.ipynb>data table notebook</a>'\n",
              "            + ' to learn more about interactive tables.';\n",
              "          element.innerHTML = '';\n",
              "          dataTable['output_type'] = 'display_data';\n",
              "          await google.colab.output.renderOutput(dataTable, element);\n",
              "          const docLink = document.createElement('div');\n",
              "          docLink.innerHTML = docLinkHtml;\n",
              "          element.appendChild(docLink);\n",
              "        }\n",
              "      </script>\n",
              "    </div>\n",
              "  </div>\n"
            ]
          },
          "metadata": {},
          "execution_count": 14
        }
      ],
      "source": [
        "# Filtering rows with any missing (NaN) values in the 'data' DataFrame\n",
        "data[data.isnull().any(axis=1)]"
      ]
    },
    {
      "cell_type": "markdown",
      "metadata": {
        "papermill": {
          "duration": 0.110868,
          "end_time": "2020-12-21T10:10:59.07554",
          "exception": false,
          "start_time": "2020-12-21T10:10:58.964672",
          "status": "completed"
        },
        "tags": [],
        "id": "A1Vd5tgYnvuk"
      },
      "source": [
        "# Count of Null values"
      ]
    },
    {
      "cell_type": "code",
      "execution_count": null,
      "metadata": {
        "execution": {
          "iopub.execute_input": "2021-08-15T10:07:17.738176Z",
          "iopub.status.busy": "2021-08-15T10:07:17.737858Z",
          "iopub.status.idle": "2021-08-15T10:07:17.760453Z",
          "shell.execute_reply": "2021-08-15T10:07:17.758446Z",
          "shell.execute_reply.started": "2021-08-15T10:07:17.738147Z"
        },
        "papermill": {
          "duration": 0.112581,
          "end_time": "2020-12-21T10:10:59.296281",
          "exception": false,
          "start_time": "2020-12-21T10:10:59.1837",
          "status": "completed"
        },
        "scrolled": true,
        "tags": [],
        "colab": {
          "base_uri": "https://localhost:8080/"
        },
        "id": "7FW7S0tdnvuk",
        "outputId": "8ff38b30-015f-40d2-d325-a9bcca131078"
      },
      "outputs": [
        {
          "output_type": "execute_result",
          "data": {
            "text/plain": [
              "0"
            ]
          },
          "metadata": {},
          "execution_count": 15
        }
      ],
      "source": [
        "import numpy as np\n",
        "np.sum(data.isnull().any(axis=1))"
      ]
    },
    {
      "cell_type": "markdown",
      "metadata": {
        "papermill": {
          "duration": 0.099227,
          "end_time": "2020-12-21T10:10:59.496168",
          "exception": false,
          "start_time": "2020-12-21T10:10:59.396941",
          "status": "completed"
        },
        "tags": [],
        "id": "YQPJ-1gFnvul"
      },
      "source": [
        "# Data information"
      ]
    },
    {
      "cell_type": "code",
      "execution_count": null,
      "metadata": {
        "execution": {
          "iopub.execute_input": "2021-08-15T10:07:20.773700Z",
          "iopub.status.busy": "2021-08-15T10:07:20.773306Z",
          "iopub.status.idle": "2021-08-15T10:07:20.801969Z",
          "shell.execute_reply": "2021-08-15T10:07:20.801196Z",
          "shell.execute_reply.started": "2021-08-15T10:07:20.773667Z"
        },
        "papermill": {
          "duration": 0.124682,
          "end_time": "2020-12-21T10:10:59.721704",
          "exception": false,
          "start_time": "2020-12-21T10:10:59.597022",
          "status": "completed"
        },
        "tags": [],
        "colab": {
          "base_uri": "https://localhost:8080/"
        },
        "id": "zODYIUmGnvul",
        "outputId": "1a54bd27-124a-4786-e7af-792e934b1ef1"
      },
      "outputs": [
        {
          "output_type": "stream",
          "name": "stdout",
          "text": [
            "<class 'pandas.core.frame.DataFrame'>\n",
            "Int64Index: 44898 entries, 0 to 23480\n",
            "Data columns (total 2 columns):\n",
            " #   Column  Non-Null Count  Dtype \n",
            "---  ------  --------------  ----- \n",
            " 0   text    44898 non-null  object\n",
            " 1   label   44898 non-null  object\n",
            "dtypes: object(2)\n",
            "memory usage: 1.0+ MB\n"
          ]
        }
      ],
      "source": [
        "data.info()"
      ]
    },
    {
      "cell_type": "markdown",
      "metadata": {
        "papermill": {
          "duration": 0.100145,
          "end_time": "2020-12-21T10:10:59.922044",
          "exception": false,
          "start_time": "2020-12-21T10:10:59.821899",
          "status": "completed"
        },
        "tags": [],
        "id": "kQL3lhKPnvul"
      },
      "source": [
        "# Frequency Distribution of label"
      ]
    },
    {
      "cell_type": "code",
      "execution_count": null,
      "metadata": {
        "execution": {
          "iopub.execute_input": "2021-08-15T10:07:22.777527Z",
          "iopub.status.busy": "2021-08-15T10:07:22.777160Z",
          "iopub.status.idle": "2021-08-15T10:07:22.971279Z",
          "shell.execute_reply": "2021-08-15T10:07:22.970075Z",
          "shell.execute_reply.started": "2021-08-15T10:07:22.777486Z"
        },
        "papermill": {
          "duration": 0.307097,
          "end_time": "2020-12-21T10:11:00.330409",
          "exception": false,
          "start_time": "2020-12-21T10:11:00.023312",
          "status": "completed"
        },
        "tags": [],
        "colab": {
          "base_uri": "https://localhost:8080/",
          "height": 480
        },
        "id": "HN1eOvY7nvul",
        "outputId": "bf3552cd-11d3-4413-d2ee-fe5198db2ff6"
      },
      "outputs": [
        {
          "output_type": "display_data",
          "data": {
            "text/plain": [
              "<Figure size 640x480 with 1 Axes>"
            ],
            "image/png": "[encoded data removed]"
          },
          "metadata": {}
        }
      ],
      "source": [
        "# Enable inline plotting for Jupyter Notebook or other compatible environments\n",
        "%matplotlib inline\n",
        "\n",
        "# Calculate the frequency counts of each unique value in the 'label' column of the 'data' DataFrame\n",
        "carrier_count = data[\"label\"].value_counts()\n",
        "\n",
        "# Set the style for the seaborn plots to 'darkgrid'\n",
        "sns.set(style=\"darkgrid\")\n",
        "\n",
        "# Create a bar plot using seaborn with the frequency distribution of the 'label' column\n",
        "# The x-axis will represent the unique values of 'label', and the y-axis will represent their respective frequencies\n",
        "# The alpha parameter sets the transparency of the bars to 0.9 (less transparent)\n",
        "sns.barplot(x=carrier_count.index, y=carrier_count.values, alpha=0.9)\n",
        "\n",
        "# Set the title of the plot\n",
        "plt.title('Frequency Distribution of label')\n",
        "\n",
        "# Set the label for the y-axis\n",
        "plt.ylabel('Number of Occurrences', fontsize=12)\n",
        "\n",
        "# Set the label for the x-axis\n",
        "plt.xlabel('Carrier', fontsize=12)\n",
        "\n",
        "# Display the plot\n",
        "plt.show()\n"
      ]
    },
    {
      "cell_type": "code",
      "execution_count": null,
      "metadata": {
        "execution": {
          "iopub.execute_input": "2021-08-15T10:07:26.505634Z",
          "iopub.status.busy": "2021-08-15T10:07:26.505250Z",
          "iopub.status.idle": "2021-08-15T10:07:26.628258Z",
          "shell.execute_reply": "2021-08-15T10:07:26.627563Z",
          "shell.execute_reply.started": "2021-08-15T10:07:26.505601Z"
        },
        "papermill": {
          "duration": 0.239393,
          "end_time": "2020-12-21T10:11:00.67181",
          "exception": false,
          "start_time": "2020-12-21T10:11:00.432417",
          "status": "completed"
        },
        "tags": [],
        "colab": {
          "base_uri": "https://localhost:8080/",
          "height": 671
        },
        "id": "ibtF-knbnvul",
        "outputId": "36d734aa-4535-44a5-e180-9cd9f2c72b49"
      },
      "outputs": [
        {
          "output_type": "execute_result",
          "data": {
            "text/plain": [
              "<matplotlib.legend.Legend at 0x7fdc09b17a60>"
            ]
          },
          "metadata": {},
          "execution_count": 18
        },
        {
          "output_type": "display_data",
          "data": {
            "text/plain": [
              "<Figure size 800x800 with 1 Axes>"
            ],
            "image/png": "[encoded data removed]"
          },
          "metadata": {}
        }
      ],
      "source": [
        "# Calculate the frequency counts of each unique value in the 'label' column of the 'data' DataFrame\n",
        "label_counts = data[\"label\"].value_counts()\n",
        "\n",
        "# Select the top 3 most frequent labels and create a pie chart\n",
        "label_counts.head(3).plot(kind='pie', autopct='%1.1f%%', figsize=(8, 8))\n",
        "\n",
        "# Add a legend to the pie chart\n",
        "plt.legend()\n"
      ]
    },
    {
      "cell_type": "code",
      "execution_count": null,
      "metadata": {
        "execution": {
          "iopub.execute_input": "2021-08-15T10:07:29.267482Z",
          "iopub.status.busy": "2021-08-15T10:07:29.267134Z",
          "iopub.status.idle": "2021-08-15T10:07:29.285090Z",
          "shell.execute_reply": "2021-08-15T10:07:29.284164Z",
          "shell.execute_reply.started": "2021-08-15T10:07:29.267452Z"
        },
        "papermill": {
          "duration": 0.119888,
          "end_time": "2020-12-21T10:11:00.895563",
          "exception": false,
          "start_time": "2020-12-21T10:11:00.775675",
          "status": "completed"
        },
        "tags": [],
        "colab": {
          "base_uri": "https://localhost:8080/"
        },
        "id": "bLI-wZkrnvul",
        "outputId": "6b92ac79-e5aa-4f77-e54c-17d0792a9bfb"
      },
      "outputs": [
        {
          "output_type": "execute_result",
          "data": {
            "text/plain": [
              "true    23481\n",
              "fake    21417\n",
              "Name: label, dtype: int64"
            ]
          },
          "metadata": {},
          "execution_count": 19
        }
      ],
      "source": [
        "data[\"label\"].value_counts()"
      ]
    },
    {
      "cell_type": "markdown",
      "metadata": {
        "papermill": {
          "duration": 0.10284,
          "end_time": "2020-12-21T10:11:01.102193",
          "exception": false,
          "start_time": "2020-12-21T10:11:00.999353",
          "status": "completed"
        },
        "tags": [],
        "id": "fgS8fSaunvul"
      },
      "source": [
        "# Preproccessing of words"
      ]
    },
    {
      "cell_type": "code",
      "execution_count": null,
      "metadata": {
        "execution": {
          "iopub.execute_input": "2021-08-15T10:07:31.735432Z",
          "iopub.status.busy": "2021-08-15T10:07:31.735099Z",
          "iopub.status.idle": "2021-08-15T10:07:32.658619Z",
          "shell.execute_reply": "2021-08-15T10:07:32.657598Z",
          "shell.execute_reply.started": "2021-08-15T10:07:31.735402Z"
        },
        "papermill": {
          "duration": 0.217175,
          "end_time": "2020-12-21T10:11:01.426761",
          "exception": false,
          "start_time": "2020-12-21T10:11:01.209586",
          "status": "completed"
        },
        "tags": [],
        "id": "NLUTjyBBnvul"
      },
      "outputs": [],
      "source": [
        "# Replacing 'america' with 'american'\n",
        "data.loc[data[\"text\"].str.contains('america'), 'text'] = 'american'\n",
        "\n",
        "# Replacing 'americans' with 'american'\n",
        "data.loc[data[\"text\"].str.contains('americans'), 'text'] = 'american'\n",
        "\n",
        "# Replacing 'youore' with 'you are'\n",
        "data.loc[data[\"text\"].str.contains('youore'), 'text'] = 'you are'\n",
        "\n",
        "# Replacing 'youre' with 'you are'\n",
        "data.loc[data[\"text\"].str.contains('youre'), 'text'] = 'you are'\n",
        "\n",
        "# Replacing 'years' with 'year'\n",
        "data.loc[data[\"text\"].str.contains('years'), 'text'] = 'year'\n",
        "\n",
        "# Replacing 'break' with 'breakingnews'\n",
        "data.loc[data[\"text\"].str.contains('break'), 'text'] = 'breakingnews'\n",
        "\n",
        "# Replacing 'breaking' with 'breakingnews'\n",
        "data.loc[data[\"text\"].str.contains('breaking'), 'text'] = 'breakingnews'\n",
        "\n",
        "# Replacing 'caused' with 'cause'\n",
        "data.loc[data[\"text\"].str.contains('caused'), 'text'] = 'cause'\n",
        "\n",
        "# Replacing 'causes' with 'cause'\n",
        "data.loc[data[\"text\"].str.contains('causes'), 'text'] = 'cause'\n",
        "\n",
        "# Replacing 'county' with 'country'\n",
        "data.loc[data[\"text\"].str.contains('county'), 'text'] = 'country'\n"
      ]
    },
    {
      "cell_type": "code",
      "execution_count": null,
      "metadata": {
        "execution": {
          "iopub.execute_input": "2021-08-15T10:07:35.113936Z",
          "iopub.status.busy": "2021-08-15T10:07:35.113613Z",
          "iopub.status.idle": "2021-08-15T10:07:35.894155Z",
          "shell.execute_reply": "2021-08-15T10:07:35.893358Z",
          "shell.execute_reply.started": "2021-08-15T10:07:35.113906Z"
        },
        "papermill": {
          "duration": 0.179441,
          "end_time": "2020-12-21T10:11:01.708706",
          "exception": false,
          "start_time": "2020-12-21T10:11:01.529265",
          "status": "completed"
        },
        "tags": [],
        "id": "J4Uvfhr8nvum"
      },
      "outputs": [],
      "source": [
        "# Removing specific characters from the 'text' column in the 'data' DataFrame\n",
        "\n",
        "for letter in '1234567890.(/':\n",
        "    # For each character in the string '1234567890.(/', remove it from the 'text' column\n",
        "    data[\"text\"] = data[\"text\"].str.replace(letter, '')\n"
      ]
    },
    {
      "cell_type": "markdown",
      "metadata": {
        "papermill": {
          "duration": 0.105173,
          "end_time": "2020-12-21T10:11:01.917908",
          "exception": false,
          "start_time": "2020-12-21T10:11:01.812735",
          "status": "completed"
        },
        "tags": [],
        "id": "BWlLRxcvnvum"
      },
      "source": [
        "# Preprocess data on Descripcion"
      ]
    },
    {
      "cell_type": "code",
      "execution_count": null,
      "metadata": {
        "execution": {
          "iopub.execute_input": "2021-08-15T10:07:37.714233Z",
          "iopub.status.busy": "2021-08-15T10:07:37.713910Z",
          "iopub.status.idle": "2021-08-15T10:07:37.720423Z",
          "shell.execute_reply": "2021-08-15T10:07:37.719491Z",
          "shell.execute_reply.started": "2021-08-15T10:07:37.714203Z"
        },
        "papermill": {
          "duration": 0.114973,
          "end_time": "2020-12-21T10:11:02.136054",
          "exception": false,
          "start_time": "2020-12-21T10:11:02.021081",
          "status": "completed"
        },
        "tags": [],
        "id": "hLEbkQzHnvum"
      },
      "outputs": [],
      "source": [
        "# Importing the 'string' module to access English punctuation characters\n",
        "english_punctuations = string.punctuation\n",
        "\n",
        "# Creating a list of punctuation characters duplicated for removal purposes\n",
        "punctuations_list = english_punctuations + english_punctuations\n",
        "\n",
        "# Defining a function to remove punctuations from a given text\n",
        "def remove_punctuations(text):\n",
        "    # Creating a translator using str.maketrans() to remove punctuation characters from the text\n",
        "    translator = str.maketrans('', '', punctuations_list)\n",
        "\n",
        "    # Using the translator to remove punctuation characters from the text\n",
        "    return text.translate(translator)\n"
      ]
    },
    {
      "cell_type": "markdown",
      "metadata": {
        "papermill": {
          "duration": 0.101997,
          "end_time": "2020-12-21T10:11:02.343592",
          "exception": false,
          "start_time": "2020-12-21T10:11:02.241595",
          "status": "completed"
        },
        "tags": [],
        "id": "67Mx_h_knvum"
      },
      "source": [
        "# Remove_repeating_char"
      ]
    },
    {
      "cell_type": "code",
      "execution_count": null,
      "metadata": {
        "execution": {
          "iopub.execute_input": "2021-08-15T10:07:43.620676Z",
          "iopub.status.busy": "2021-08-15T10:07:43.620305Z",
          "iopub.status.idle": "2021-08-15T10:07:43.626776Z",
          "shell.execute_reply": "2021-08-15T10:07:43.624964Z",
          "shell.execute_reply.started": "2021-08-15T10:07:43.620645Z"
        },
        "papermill": {
          "duration": 0.111473,
          "end_time": "2020-12-21T10:11:02.5589",
          "exception": false,
          "start_time": "2020-12-21T10:11:02.447427",
          "status": "completed"
        },
        "tags": [],
        "id": "wTp3rftvnvuv"
      },
      "outputs": [],
      "source": [
        "def remove_repeating_char(text):\n",
        "    return re.sub(r'(.)\\1+', r'\\1', text)"
      ]
    },
    {
      "cell_type": "markdown",
      "metadata": {
        "papermill": {
          "duration": 0.102811,
          "end_time": "2020-12-21T10:11:02.764443",
          "exception": false,
          "start_time": "2020-12-21T10:11:02.661632",
          "status": "completed"
        },
        "tags": [],
        "id": "Jz-ftlkgnvuv"
      },
      "source": [
        "# ProcessPost for applying all functions"
      ]
    },
    {
      "cell_type": "code",
      "execution_count": null,
      "metadata": {
        "execution": {
          "iopub.execute_input": "2021-08-15T10:07:46.527429Z",
          "iopub.status.busy": "2021-08-15T10:07:46.527085Z",
          "iopub.status.idle": "2021-08-15T10:07:46.533235Z",
          "shell.execute_reply": "2021-08-15T10:07:46.532104Z",
          "shell.execute_reply.started": "2021-08-15T10:07:46.527397Z"
        },
        "papermill": {
          "duration": 0.115091,
          "end_time": "2020-12-21T10:11:02.982602",
          "exception": false,
          "start_time": "2020-12-21T10:11:02.867511",
          "status": "completed"
        },
        "tags": [],
        "id": "baazMtNUnvuv"
      },
      "outputs": [],
      "source": [
        "\n",
        "# Define a function named 'processPost' for text preprocessing\n",
        "def processPost(text):\n",
        "\n",
        "    # Remove @mentions (e.g., @username) from the text\n",
        "    text = re.sub('@[^\\s]+', ' ', text)\n",
        "\n",
        "    # Remove URLs (e.g., http://www.example.com or www.example.com) from the text\n",
        "    text = re.sub('((www\\.[^\\s]+)|(https?://[^\\s]+))', ' ', text)\n",
        "\n",
        "    # Remove the '#' symbol from hashtags but keep the text part of the hashtag\n",
        "    text = re.sub(r'#([^\\s]+)', r'\\1', text)\n",
        "\n",
        "    # Call a function 'remove_punctuations' to remove all punctuation characters from the text\n",
        "    text = remove_punctuations(text)\n",
        "\n",
        "    # Call a function 'remove_repeating_char' to remove repeating characters (optional, not provided in the code snippet)\n",
        "    text = remove_repeating_char(text)\n",
        "\n",
        "    # Return the preprocessed text\n",
        "    return text\n"
      ]
    },
    {
      "cell_type": "markdown",
      "metadata": {
        "papermill": {
          "duration": 0.109967,
          "end_time": "2020-12-21T10:11:03.197759",
          "exception": false,
          "start_time": "2020-12-21T10:11:03.087792",
          "status": "completed"
        },
        "tags": [],
        "id": "WBhkjPuMnvuv"
      },
      "source": [
        "# Applying processPost function for preprocessing"
      ]
    },
    {
      "cell_type": "code",
      "execution_count": null,
      "metadata": {
        "execution": {
          "iopub.execute_input": "2021-08-15T10:07:48.298787Z",
          "iopub.status.busy": "2021-08-15T10:07:48.298434Z",
          "iopub.status.idle": "2021-08-15T10:07:57.745810Z",
          "shell.execute_reply": "2021-08-15T10:07:57.744841Z",
          "shell.execute_reply.started": "2021-08-15T10:07:48.298756Z"
        },
        "papermill": {
          "duration": 0.328674,
          "end_time": "2020-12-21T10:11:03.63016",
          "exception": false,
          "start_time": "2020-12-21T10:11:03.301486",
          "status": "completed"
        },
        "tags": [],
        "id": "eVcXdFEmnvuv"
      },
      "outputs": [],
      "source": [
        "# Applying the 'processPost' function to each element in the 'text' column of the 'data' DataFrame\n",
        "\n",
        "data[\"text\"] = data[\"text\"].apply(lambda x: processPost(x))\n"
      ]
    },
    {
      "cell_type": "markdown",
      "metadata": {
        "papermill": {
          "duration": 0.102938,
          "end_time": "2020-12-21T10:11:03.836761",
          "exception": false,
          "start_time": "2020-12-21T10:11:03.733823",
          "status": "completed"
        },
        "tags": [],
        "id": "Xx4NojKGnvuv"
      },
      "source": [
        "# Getting Tokenization"
      ]
    },
    {
      "cell_type": "code",
      "execution_count": null,
      "metadata": {
        "execution": {
          "iopub.execute_input": "2021-08-15T10:07:57.748638Z",
          "iopub.status.busy": "2021-08-15T10:07:57.748365Z",
          "iopub.status.idle": "2021-08-15T10:08:00.017440Z",
          "shell.execute_reply": "2021-08-15T10:08:00.016649Z",
          "shell.execute_reply.started": "2021-08-15T10:07:57.748612Z"
        },
        "papermill": {
          "duration": 0.157082,
          "end_time": "2020-12-21T10:11:04.09836",
          "exception": false,
          "start_time": "2020-12-21T10:11:03.941278",
          "status": "completed"
        },
        "tags": [],
        "id": "gNcg77qNnvuw"
      },
      "outputs": [],
      "source": [
        "from nltk.tokenize import RegexpTokenizer\n",
        "\n",
        "# Create a RegexpTokenizer to tokenize text into words\n",
        "tokenizer = RegexpTokenizer(r'\\w+')\n",
        "\n",
        "# Apply the tokenizer to each element (text) in the 'text' column of the 'data' DataFrame\n",
        "data[\"text\"] = data[\"text\"].apply(tokenizer.tokenize)\n"
      ]
    },
    {
      "cell_type": "code",
      "execution_count": null,
      "metadata": {
        "execution": {
          "iopub.execute_input": "2021-08-15T10:08:00.624233Z",
          "iopub.status.busy": "2021-08-15T10:08:00.623897Z",
          "iopub.status.idle": "2021-08-15T10:08:00.633015Z",
          "shell.execute_reply": "2021-08-15T10:08:00.632013Z",
          "shell.execute_reply.started": "2021-08-15T10:08:00.624203Z"
        },
        "papermill": {
          "duration": 0.116786,
          "end_time": "2020-12-21T10:11:04.319925",
          "exception": false,
          "start_time": "2020-12-21T10:11:04.203139",
          "status": "completed"
        },
        "tags": [],
        "colab": {
          "base_uri": "https://localhost:8080/"
        },
        "id": "1gXQn_YInvuw",
        "outputId": "0c082aa1-83df-4b97-c8a5-21d476bda029"
      },
      "outputs": [
        {
          "output_type": "execute_result",
          "data": {
            "text/plain": [
              "0                                               [year]\n",
              "1                                           [american]\n",
              "2    [washington, reuters, the, special, counsel, i...\n",
              "3                                           [american]\n",
              "4                                           [american]\n",
              "Name: text, dtype: object"
            ]
          },
          "metadata": {},
          "execution_count": 27
        }
      ],
      "source": [
        "data[\"text\"].head()"
      ]
    },
    {
      "cell_type": "markdown",
      "metadata": {
        "papermill": {
          "duration": 0.103135,
          "end_time": "2020-12-21T10:11:04.526711",
          "exception": false,
          "start_time": "2020-12-21T10:11:04.423576",
          "status": "completed"
        },
        "tags": [],
        "id": "DThW247Jnvuw"
      },
      "source": [
        "# Stop words of english"
      ]
    },
    {
      "cell_type": "code",
      "execution_count": null,
      "metadata": {
        "execution": {
          "iopub.execute_input": "2021-08-15T10:08:06.074839Z",
          "iopub.status.busy": "2021-08-15T10:08:06.074432Z",
          "iopub.status.idle": "2021-08-15T10:08:06.087757Z",
          "shell.execute_reply": "2021-08-15T10:08:06.086801Z",
          "shell.execute_reply.started": "2021-08-15T10:08:06.074809Z"
        },
        "papermill": {
          "duration": 0.120977,
          "end_time": "2020-12-21T10:11:04.752857",
          "exception": false,
          "start_time": "2020-12-21T10:11:04.63188",
          "status": "completed"
        },
        "tags": [],
        "id": "1yzNiASAnvuw"
      },
      "outputs": [],
      "source": [
        "stopwords_list = stopwords.words('english')"
      ]
    },
    {
      "cell_type": "code",
      "execution_count": null,
      "metadata": {
        "execution": {
          "iopub.execute_input": "2021-08-15T10:08:08.584753Z",
          "iopub.status.busy": "2021-08-15T10:08:08.584424Z",
          "iopub.status.idle": "2021-08-15T10:08:08.595295Z",
          "shell.execute_reply": "2021-08-15T10:08:08.593485Z",
          "shell.execute_reply.started": "2021-08-15T10:08:08.584723Z"
        },
        "papermill": {
          "duration": 0.116577,
          "end_time": "2020-12-21T10:11:04.974203",
          "exception": false,
          "start_time": "2020-12-21T10:11:04.857626",
          "status": "completed"
        },
        "tags": [],
        "colab": {
          "base_uri": "https://localhost:8080/"
        },
        "id": "EELNtnfnnvuw",
        "outputId": "948b7fdc-5155-4bb6-e34d-54cf87a3390d"
      },
      "outputs": [
        {
          "output_type": "execute_result",
          "data": {
            "text/plain": [
              "['i',\n",
              " 'me',\n",
              " 'my',\n",
              " 'myself',\n",
              " 'we',\n",
              " 'our',\n",
              " 'ours',\n",
              " 'ourselves',\n",
              " 'you',\n",
              " \"you're\",\n",
              " \"you've\",\n",
              " \"you'll\",\n",
              " \"you'd\",\n",
              " 'your',\n",
              " 'yours',\n",
              " 'yourself',\n",
              " 'yourselves',\n",
              " 'he',\n",
              " 'him',\n",
              " 'his',\n",
              " 'himself',\n",
              " 'she',\n",
              " \"she's\",\n",
              " 'her',\n",
              " 'hers',\n",
              " 'herself',\n",
              " 'it',\n",
              " \"it's\",\n",
              " 'its',\n",
              " 'itself',\n",
              " 'they',\n",
              " 'them',\n",
              " 'their',\n",
              " 'theirs',\n",
              " 'themselves',\n",
              " 'what',\n",
              " 'which',\n",
              " 'who',\n",
              " 'whom',\n",
              " 'this',\n",
              " 'that',\n",
              " \"that'll\",\n",
              " 'these',\n",
              " 'those',\n",
              " 'am',\n",
              " 'is',\n",
              " 'are',\n",
              " 'was',\n",
              " 'were',\n",
              " 'be',\n",
              " 'been',\n",
              " 'being',\n",
              " 'have',\n",
              " 'has',\n",
              " 'had',\n",
              " 'having',\n",
              " 'do',\n",
              " 'does',\n",
              " 'did',\n",
              " 'doing',\n",
              " 'a',\n",
              " 'an',\n",
              " 'the',\n",
              " 'and',\n",
              " 'but',\n",
              " 'if',\n",
              " 'or',\n",
              " 'because',\n",
              " 'as',\n",
              " 'until',\n",
              " 'while',\n",
              " 'of',\n",
              " 'at',\n",
              " 'by',\n",
              " 'for',\n",
              " 'with',\n",
              " 'about',\n",
              " 'against',\n",
              " 'between',\n",
              " 'into',\n",
              " 'through',\n",
              " 'during',\n",
              " 'before',\n",
              " 'after',\n",
              " 'above',\n",
              " 'below',\n",
              " 'to',\n",
              " 'from',\n",
              " 'up',\n",
              " 'down',\n",
              " 'in',\n",
              " 'out',\n",
              " 'on',\n",
              " 'off',\n",
              " 'over',\n",
              " 'under',\n",
              " 'again',\n",
              " 'further',\n",
              " 'then',\n",
              " 'once',\n",
              " 'here',\n",
              " 'there',\n",
              " 'when',\n",
              " 'where',\n",
              " 'why',\n",
              " 'how',\n",
              " 'all',\n",
              " 'any',\n",
              " 'both',\n",
              " 'each',\n",
              " 'few',\n",
              " 'more',\n",
              " 'most',\n",
              " 'other',\n",
              " 'some',\n",
              " 'such',\n",
              " 'no',\n",
              " 'nor',\n",
              " 'not',\n",
              " 'only',\n",
              " 'own',\n",
              " 'same',\n",
              " 'so',\n",
              " 'than',\n",
              " 'too',\n",
              " 'very',\n",
              " 's',\n",
              " 't',\n",
              " 'can',\n",
              " 'will',\n",
              " 'just',\n",
              " 'don',\n",
              " \"don't\",\n",
              " 'should',\n",
              " \"should've\",\n",
              " 'now',\n",
              " 'd',\n",
              " 'll',\n",
              " 'm',\n",
              " 'o',\n",
              " 're',\n",
              " 've',\n",
              " 'y',\n",
              " 'ain',\n",
              " 'aren',\n",
              " \"aren't\",\n",
              " 'couldn',\n",
              " \"couldn't\",\n",
              " 'didn',\n",
              " \"didn't\",\n",
              " 'doesn',\n",
              " \"doesn't\",\n",
              " 'hadn',\n",
              " \"hadn't\",\n",
              " 'hasn',\n",
              " \"hasn't\",\n",
              " 'haven',\n",
              " \"haven't\",\n",
              " 'isn',\n",
              " \"isn't\",\n",
              " 'ma',\n",
              " 'mightn',\n",
              " \"mightn't\",\n",
              " 'mustn',\n",
              " \"mustn't\",\n",
              " 'needn',\n",
              " \"needn't\",\n",
              " 'shan',\n",
              " \"shan't\",\n",
              " 'shouldn',\n",
              " \"shouldn't\",\n",
              " 'wasn',\n",
              " \"wasn't\",\n",
              " 'weren',\n",
              " \"weren't\",\n",
              " 'won',\n",
              " \"won't\",\n",
              " 'wouldn',\n",
              " \"wouldn't\"]"
            ]
          },
          "metadata": {},
          "execution_count": 29
        }
      ],
      "source": [
        "stopwords_list"
      ]
    },
    {
      "cell_type": "code",
      "execution_count": null,
      "metadata": {
        "execution": {
          "iopub.execute_input": "2021-08-15T10:08:11.499166Z",
          "iopub.status.busy": "2021-08-15T10:08:11.498843Z",
          "iopub.status.idle": "2021-08-15T10:08:11.504523Z",
          "shell.execute_reply": "2021-08-15T10:08:11.503635Z",
          "shell.execute_reply.started": "2021-08-15T10:08:11.499137Z"
        },
        "papermill": {
          "duration": 0.120041,
          "end_time": "2020-12-21T10:11:05.198541",
          "exception": false,
          "start_time": "2020-12-21T10:11:05.0785",
          "status": "completed"
        },
        "tags": [],
        "colab": {
          "base_uri": "https://localhost:8080/"
        },
        "id": "R869VR4cnvuw",
        "outputId": "3bc9b58f-94d7-406a-ed43-bc1d46ce47fc"
      },
      "outputs": [
        {
          "output_type": "execute_result",
          "data": {
            "text/plain": [
              "179"
            ]
          },
          "metadata": {},
          "execution_count": 30
        }
      ],
      "source": [
        "len(stopwords_list)"
      ]
    },
    {
      "cell_type": "code",
      "execution_count": null,
      "metadata": {
        "execution": {
          "iopub.execute_input": "2021-08-15T10:08:14.878675Z",
          "iopub.status.busy": "2021-08-15T10:08:14.878195Z",
          "iopub.status.idle": "2021-08-15T10:08:25.151390Z",
          "shell.execute_reply": "2021-08-15T10:08:25.150402Z",
          "shell.execute_reply.started": "2021-08-15T10:08:14.878638Z"
        },
        "papermill": {
          "duration": 0.318314,
          "end_time": "2020-12-21T10:11:05.63917",
          "exception": false,
          "start_time": "2020-12-21T10:11:05.320856",
          "status": "completed"
        },
        "tags": [],
        "id": "Nd00-Wh2nvuw"
      },
      "outputs": [],
      "source": [
        "data[\"text\"]=data[\"text\"].apply(lambda x: [item for item in x if item not in stopwords_list])"
      ]
    },
    {
      "cell_type": "code",
      "execution_count": null,
      "metadata": {
        "execution": {
          "iopub.execute_input": "2021-08-15T10:08:25.154194Z",
          "iopub.status.busy": "2021-08-15T10:08:25.153824Z",
          "iopub.status.idle": "2021-08-15T10:08:25.163442Z",
          "shell.execute_reply": "2021-08-15T10:08:25.162430Z",
          "shell.execute_reply.started": "2021-08-15T10:08:25.154156Z"
        },
        "papermill": {
          "duration": 0.118249,
          "end_time": "2020-12-21T10:11:05.864601",
          "exception": false,
          "start_time": "2020-12-21T10:11:05.746352",
          "status": "completed"
        },
        "tags": [],
        "colab": {
          "base_uri": "https://localhost:8080/"
        },
        "id": "cyATCybRnvux",
        "outputId": "bd574dea-d9ee-4764-80a5-3f430f85e8fe"
      },
      "outputs": [
        {
          "output_type": "execute_result",
          "data": {
            "text/plain": [
              "0                                               [year]\n",
              "1                                           [american]\n",
              "2    [washington, reuters, special, counsel, invest...\n",
              "3                                           [american]\n",
              "4                                           [american]\n",
              "Name: text, dtype: object"
            ]
          },
          "metadata": {},
          "execution_count": 32
        }
      ],
      "source": [
        "data[\"text\"].head()"
      ]
    },
    {
      "cell_type": "markdown",
      "metadata": {
        "papermill": {
          "duration": 0.107752,
          "end_time": "2020-12-21T10:11:06.077892",
          "exception": false,
          "start_time": "2020-12-21T10:11:05.97014",
          "status": "completed"
        },
        "tags": [],
        "id": "neDJe85Vnvux"
      },
      "source": [
        "# Description of text information"
      ]
    },
    {
      "cell_type": "code",
      "execution_count": null,
      "metadata": {
        "execution": {
          "iopub.execute_input": "2021-08-15T10:08:25.869276Z",
          "iopub.status.busy": "2021-08-15T10:08:25.868935Z",
          "iopub.status.idle": "2021-08-15T10:08:26.517196Z",
          "shell.execute_reply": "2021-08-15T10:08:26.516230Z",
          "shell.execute_reply.started": "2021-08-15T10:08:25.869244Z"
        },
        "papermill": {
          "duration": 0.130515,
          "end_time": "2020-12-21T10:11:06.315908",
          "exception": false,
          "start_time": "2020-12-21T10:11:06.185393",
          "status": "completed"
        },
        "tags": [],
        "colab": {
          "base_uri": "https://localhost:8080/"
        },
        "id": "YWTjaMShnvux",
        "outputId": "07e4906b-509c-4828-c726-f40bdfef2879"
      },
      "outputs": [
        {
          "output_type": "stream",
          "name": "stdout",
          "text": [
            "3138438 words total, with a vocabulary size of 90312\n",
            "Max sentence length is 1511\n"
          ]
        }
      ],
      "source": [
        "# Create a list of all words by iterating through each tokenized text in the 'text' column\n",
        "all_words = [word for tokens in data[\"text\"] for word in tokens]\n",
        "\n",
        "# Create a list of sentence lengths by computing the length of each tokenized text in the 'text' column\n",
        "sentence_lengths = [len(tokens) for tokens in data[\"text\"]]\n",
        "\n",
        "# Create a sorted list of unique words to obtain the vocabulary\n",
        "VOCAB = sorted(list(set(all_words)))\n",
        "\n",
        "# Print the total number of words and the vocabulary size\n",
        "print(\"%s words total, with a vocabulary size of %s\" % (len(all_words), len(VOCAB)))\n",
        "\n",
        "# Print the maximum sentence length\n",
        "print(\"Max sentence length is %s\" % max(sentence_lengths))\n"
      ]
    },
    {
      "cell_type": "markdown",
      "metadata": {
        "papermill": {
          "duration": 0.104728,
          "end_time": "2020-12-21T10:11:06.525772",
          "exception": false,
          "start_time": "2020-12-21T10:11:06.421044",
          "status": "completed"
        },
        "tags": [],
        "id": "PF4tt3R8nvux"
      },
      "source": [
        "# Top 25 words in text"
      ]
    },
    {
      "cell_type": "code",
      "execution_count": null,
      "metadata": {
        "execution": {
          "iopub.execute_input": "2021-08-15T10:08:29.014115Z",
          "iopub.status.busy": "2021-08-15T10:08:29.013776Z",
          "iopub.status.idle": "2021-08-15T10:08:29.412152Z",
          "shell.execute_reply": "2021-08-15T10:08:29.411128Z",
          "shell.execute_reply.started": "2021-08-15T10:08:29.014083Z"
        },
        "papermill": {
          "duration": 0.119161,
          "end_time": "2020-12-21T10:11:06.749583",
          "exception": false,
          "start_time": "2020-12-21T10:11:06.630422",
          "status": "completed"
        },
        "tags": [],
        "id": "J4W6o57dnvux"
      },
      "outputs": [],
      "source": [
        "from collections import Counter\n",
        "\n",
        "# Create a Counter object to count the occurrences of each word in the 'all_words' list\n",
        "counter = Counter(all_words)\n"
      ]
    },
    {
      "cell_type": "code",
      "execution_count": null,
      "metadata": {
        "execution": {
          "iopub.execute_input": "2021-08-15T10:08:31.801085Z",
          "iopub.status.busy": "2021-08-15T10:08:31.800703Z",
          "iopub.status.idle": "2021-08-15T10:08:31.834153Z",
          "shell.execute_reply": "2021-08-15T10:08:31.833503Z",
          "shell.execute_reply.started": "2021-08-15T10:08:31.801052Z"
        },
        "papermill": {
          "duration": 0.120861,
          "end_time": "2020-12-21T10:11:06.975949",
          "exception": false,
          "start_time": "2020-12-21T10:11:06.855088",
          "status": "completed"
        },
        "tags": [],
        "colab": {
          "base_uri": "https://localhost:8080/"
        },
        "id": "5f7S1x73nvux",
        "outputId": "a59ea21e-7280-406f-a3d6-43a53cc6256d"
      },
      "outputs": [
        {
          "output_type": "execute_result",
          "data": {
            "text/plain": [
              "[('said', 48117),\n",
              " ('trump', 38884),\n",
              " ('us', 19022),\n",
              " ('would', 16518),\n",
              " ('president', 16516),\n",
              " ('american', 16452),\n",
              " ('wil', 15049),\n",
              " ('reuters', 14006),\n",
              " ('ben', 13175),\n",
              " ('year', 11199),\n",
              " ('people', 10918),\n",
              " ('state', 10817),\n",
              " ('one', 10069),\n",
              " ('al', 9963),\n",
              " ('also', 9383),\n",
              " ('house', 9379),\n",
              " ('donald', 9334),\n",
              " ('new', 9159),\n",
              " ('government', 9116),\n",
              " ('told', 8619),\n",
              " ('clinton', 7738),\n",
              " ('could', 7220),\n",
              " ('states', 7157),\n",
              " ('campaign', 7046),\n",
              " ('republican', 7044)]"
            ]
          },
          "metadata": {},
          "execution_count": 35
        }
      ],
      "source": [
        "# Get the 25 most common words and their counts from the 'counter' Counter object\n",
        "\n",
        "# The 'most_common()' method returns a list of the most common elements (words) and their counts.\n",
        "# The argument '25' specifies that we want the top 25 most common elements.\n",
        "counter.most_common(25)"
      ]
    },
    {
      "cell_type": "code",
      "execution_count": null,
      "metadata": {
        "execution": {
          "iopub.execute_input": "2021-08-15T10:08:36.599351Z",
          "iopub.status.busy": "2021-08-15T10:08:36.598686Z",
          "iopub.status.idle": "2021-08-15T10:08:37.081259Z",
          "shell.execute_reply": "2021-08-15T10:08:37.080338Z",
          "shell.execute_reply.started": "2021-08-15T10:08:36.599272Z"
        },
        "papermill": {
          "duration": 0.123782,
          "end_time": "2020-12-21T10:11:07.205151",
          "exception": false,
          "start_time": "2020-12-21T10:11:07.081369",
          "status": "completed"
        },
        "tags": [],
        "id": "z6Dn-qHTnvuy"
      },
      "outputs": [],
      "source": [
        "from collections import Counter\n",
        "\n",
        "# Create a Counter object to count the occurrences of each word in 'all_words' list\n",
        "counted_words = Counter(all_words)\n",
        "\n",
        "# Initialize empty lists to store the 25 most common words and their respective counts\n",
        "words = []\n",
        "counts = []\n",
        "\n",
        "# Extract the 25 most common words and their counts from the 'counted_words' Counter\n",
        "for word, count in counted_words.most_common(25):\n",
        "    words.append(word)\n",
        "    counts.append(count)\n"
      ]
    },
    {
      "cell_type": "code",
      "execution_count": null,
      "metadata": {
        "execution": {
          "iopub.execute_input": "2021-08-15T10:08:42.243447Z",
          "iopub.status.busy": "2021-08-15T10:08:42.243079Z",
          "iopub.status.idle": "2021-08-15T10:08:42.778182Z",
          "shell.execute_reply": "2021-08-15T10:08:42.777115Z",
          "shell.execute_reply.started": "2021-08-15T10:08:42.243412Z"
        },
        "papermill": {
          "duration": 0.516595,
          "end_time": "2020-12-21T10:11:07.828532",
          "exception": false,
          "start_time": "2020-12-21T10:11:07.311937",
          "status": "completed"
        },
        "tags": [],
        "colab": {
          "base_uri": "https://localhost:8080/",
          "height": 837
        },
        "id": "OyjKM5VSnvuy",
        "outputId": "59de8931-fc63-4318-fa55-09a6722314f6"
      },
      "outputs": [
        {
          "output_type": "execute_result",
          "data": {
            "text/plain": [
              "<BarContainer object of 25 artists>"
            ]
          },
          "metadata": {},
          "execution_count": 37
        },
        {
          "output_type": "display_data",
          "data": {
            "text/plain": [
              "<Figure size 2000x1000 with 1 Axes>"
            ],
            "image/png": "[encoded data removed]"
          },
          "metadata": {}
        }
      ],
      "source": [
        "colors = cm.rainbow(np.linspace(0, 1, 10))\n",
        "rcParams['figure.figsize'] = 20, 10\n",
        "\n",
        "plt.title('Top words in Text')\n",
        "plt.xlabel('Count')\n",
        "plt.ylabel('Words')\n",
        "plt.barh(words, counts, color=colors)"
      ]
    },
    {
      "cell_type": "markdown",
      "metadata": {
        "papermill": {
          "duration": 0.108297,
          "end_time": "2020-12-21T10:11:08.044748",
          "exception": false,
          "start_time": "2020-12-21T10:11:07.936451",
          "status": "completed"
        },
        "tags": [],
        "id": "Nf-Oj_4_nvuy"
      },
      "source": [
        "# Word cloud of true news"
      ]
    },
    {
      "cell_type": "code",
      "execution_count": null,
      "metadata": {
        "execution": {
          "iopub.execute_input": "2021-08-15T10:08:48.333750Z",
          "iopub.status.busy": "2021-08-15T10:08:48.333420Z",
          "iopub.status.idle": "2021-08-15T10:08:49.312893Z",
          "shell.execute_reply": "2021-08-15T10:08:49.311969Z",
          "shell.execute_reply.started": "2021-08-15T10:08:48.333719Z"
        },
        "papermill": {
          "duration": 1.415084,
          "end_time": "2020-12-21T10:11:09.567159",
          "exception": false,
          "start_time": "2020-12-21T10:11:08.152075",
          "status": "completed"
        },
        "tags": [],
        "colab": {
          "base_uri": "https://localhost:8080/",
          "height": 501
        },
        "id": "8l7kQriJnvuy",
        "outputId": "da897978-51c8-4c1f-98d4-1491240aab92"
      },
      "outputs": [
        {
          "output_type": "display_data",
          "data": {
            "text/plain": [
              "<Figure size 1200x1000 with 1 Axes>"
            ],
            "image/png": "[encoded data removed]"
          },
          "metadata": {}
        }
      ],
      "source": [
        "# Extract the 'text' data corresponding to the label 'true' from the 'data' DataFrame\n",
        "data1 = data[data['label'] == 'true']\n",
        "neg = data1['text']\n",
        "\n",
        "# Convert the 'text' data to a list of strings\n",
        "neg_string = []\n",
        "for t in neg:\n",
        "    neg_string.append(t)\n",
        "\n",
        "# Convert the list of strings to a single string\n",
        "neg_string = pd.Series(neg_string).map(str)\n",
        "neg_string = str(neg_string)\n",
        "\n",
        "# Generate a word cloud for the 'neg_string' text data\n",
        "wordcloud = WordCloud(width=1600, height=800, max_font_size=200).generate(neg_string)\n",
        "\n",
        "# Display the word cloud in a plot\n",
        "plt.figure(figsize=(12, 10))\n",
        "plt.imshow(wordcloud, interpolation=\"bilinear\")\n",
        "plt.axis(\"off\")\n",
        "plt.show()\n"
      ]
    },
    {
      "cell_type": "markdown",
      "metadata": {
        "papermill": {
          "duration": 0.113206,
          "end_time": "2020-12-21T10:11:09.793035",
          "exception": false,
          "start_time": "2020-12-21T10:11:09.679829",
          "status": "completed"
        },
        "tags": [],
        "id": "8GC6ExoAnvuy"
      },
      "source": [
        "# Word cloud of fake news"
      ]
    },
    {
      "cell_type": "code",
      "execution_count": null,
      "metadata": {
        "execution": {
          "iopub.execute_input": "2021-08-15T10:08:54.440196Z",
          "iopub.status.busy": "2021-08-15T10:08:54.439874Z",
          "iopub.status.idle": "2021-08-15T10:08:55.403485Z",
          "shell.execute_reply": "2021-08-15T10:08:55.402738Z",
          "shell.execute_reply.started": "2021-08-15T10:08:54.440165Z"
        },
        "papermill": {
          "duration": 1.438773,
          "end_time": "2020-12-21T10:11:11.343128",
          "exception": false,
          "start_time": "2020-12-21T10:11:09.904355",
          "status": "completed"
        },
        "tags": [],
        "colab": {
          "base_uri": "https://localhost:8080/",
          "height": 501
        },
        "id": "A7LmKexBnvuy",
        "outputId": "be5e3479-1e43-490f-fcde-95939d151141"
      },
      "outputs": [
        {
          "output_type": "display_data",
          "data": {
            "text/plain": [
              "<Figure size 1200x1000 with 1 Axes>"
            ],
            "image/png": "[encoded data removed]"
          },
          "metadata": {}
        }
      ],
      "source": [
        "data1=data[data['label']=='fake']\n",
        "neg =data1['text']\n",
        "neg_string = []\n",
        "for t in neg:\n",
        "    neg_string.append(t)\n",
        "neg_string = pd.Series(neg_string).map(str)\n",
        "neg_string=str(neg_string)\n",
        "\n",
        "\n",
        "wordcloud = WordCloud(width=1600, height=800,max_font_size=200).generate(neg_string)\n",
        "plt.figure(figsize=(12,10))\n",
        "plt.imshow(wordcloud, interpolation=\"bilinear\")\n",
        "plt.axis(\"off\")\n",
        "plt.show()"
      ]
    },
    {
      "cell_type": "markdown",
      "metadata": {
        "papermill": {
          "duration": 0.114765,
          "end_time": "2020-12-21T10:11:11.580846",
          "exception": false,
          "start_time": "2020-12-21T10:11:11.466081",
          "status": "completed"
        },
        "tags": [],
        "id": "VB2imWINnvuy"
      },
      "source": [
        "# Features Extraction From the texts Text"
      ]
    },
    {
      "cell_type": "markdown",
      "metadata": {
        "papermill": {
          "duration": 0.114949,
          "end_time": "2020-12-21T10:11:11.810775",
          "exception": false,
          "start_time": "2020-12-21T10:11:11.695826",
          "status": "completed"
        },
        "tags": [],
        "id": "mU_x0u2Cnvuz"
      },
      "source": [
        "# - Unigram features"
      ]
    },
    {
      "cell_type": "code",
      "execution_count": null,
      "metadata": {
        "execution": {
          "iopub.execute_input": "2021-08-15T10:09:00.490896Z",
          "iopub.status.busy": "2021-08-15T10:09:00.490558Z",
          "iopub.status.idle": "2021-08-15T10:09:00.496269Z",
          "shell.execute_reply": "2021-08-15T10:09:00.495232Z",
          "shell.execute_reply.started": "2021-08-15T10:09:00.490867Z"
        },
        "papermill": {
          "duration": 0.124123,
          "end_time": "2020-12-21T10:11:12.049877",
          "exception": false,
          "start_time": "2020-12-21T10:11:11.925754",
          "status": "completed"
        },
        "tags": [],
        "id": "cz-uytEQnvuz"
      },
      "outputs": [],
      "source": [
        "from sklearn.feature_extraction.text import TfidfVectorizer\n",
        "\n",
        "# Create a TfidfVectorizer object with specified settings\n",
        "\n",
        "# sublinear_tf=True: Apply sublinear scaling to the term frequency (TF). It replaces the term frequency with 1 + log(TF).\n",
        "# strip_accents='unicode': Remove accents during the preprocessing step (e.g., convert é to e).\n",
        "# analyzer='word': Analyze text at the word level.\n",
        "# token_pattern=r'\\w{1,}': Use a regular expression to extract tokens consisting of one or more alphanumeric characters.\n",
        "# stop_words='english': Remove common English stop words (e.g., 'the', 'and', 'is') from the text.\n",
        "# ngram_range=(1, 1): Consider only individual words (unigrams) and not word pairs (bigrams) or more.\n",
        "# max_features=1000: Limit the number of features (words) to the top 1000 by frequency of occurrence.\n",
        "\n",
        "word_vectorizer = TfidfVectorizer(\n",
        "    sublinear_tf=True,\n",
        "    strip_accents='unicode',\n",
        "    analyzer='word',\n",
        "    token_pattern=r'\\w{1,}',\n",
        "    stop_words='english',\n",
        "    ngram_range=(1, 1),\n",
        "    max_features=1000\n",
        ")\n"
      ]
    },
    {
      "cell_type": "markdown",
      "metadata": {
        "papermill": {
          "duration": 0.114301,
          "end_time": "2020-12-21T10:11:12.283418",
          "exception": false,
          "start_time": "2020-12-21T10:11:12.169117",
          "status": "completed"
        },
        "tags": [],
        "id": "ft1oagU0nvuz"
      },
      "source": [
        "# Preparing features for training and testing"
      ]
    },
    {
      "cell_type": "code",
      "execution_count": null,
      "metadata": {
        "execution": {
          "iopub.execute_input": "2021-08-15T10:09:02.269090Z",
          "iopub.status.busy": "2021-08-15T10:09:02.268761Z",
          "iopub.status.idle": "2021-08-15T10:09:07.791068Z",
          "shell.execute_reply": "2021-08-15T10:09:07.790356Z",
          "shell.execute_reply.started": "2021-08-15T10:09:02.269058Z"
        },
        "papermill": {
          "duration": 0.5066,
          "end_time": "2020-12-21T10:11:12.905375",
          "exception": false,
          "start_time": "2020-12-21T10:11:12.398775",
          "status": "completed"
        },
        "tags": [],
        "colab": {
          "base_uri": "https://localhost:8080/",
          "height": 235
        },
        "id": "76C-Bos9nvuz",
        "outputId": "44ef0adc-6844-4c21-f921-fbce91da542c"
      },
      "outputs": [
        {
          "output_type": "execute_result",
          "data": {
            "text/plain": [
              "   able  absolutely  acept  aces  acording  acount  acr  acros  act  action  \\\n",
              "0   0.0         0.0    0.0   0.0       0.0     0.0  0.0    0.0  0.0     0.0   \n",
              "1   0.0         0.0    0.0   0.0       0.0     0.0  0.0    0.0  0.0     0.0   \n",
              "2   0.0         0.0    0.0   0.0       0.0     0.0  0.0    0.0  0.0     0.0   \n",
              "3   0.0         0.0    0.0   0.0       0.0     0.0  0.0    0.0  0.0     0.0   \n",
              "4   0.0         0.0    0.0   0.0       0.0     0.0  0.0    0.0  0.0     0.0   \n",
              "\n",
              "   ...  wrong  wrote   xi  year  yearold  yemen  yes  york  young  zone  \n",
              "0  ...    0.0    0.0  0.0   1.0      0.0    0.0  0.0   0.0    0.0   0.0  \n",
              "1  ...    0.0    0.0  0.0   0.0      0.0    0.0  0.0   0.0    0.0   0.0  \n",
              "2  ...    0.0    0.0  0.0   0.0      0.0    0.0  0.0   1.0    0.0   0.0  \n",
              "3  ...    0.0    0.0  0.0   0.0      0.0    0.0  0.0   0.0    0.0   0.0  \n",
              "4  ...    0.0    0.0  0.0   0.0      0.0    0.0  0.0   0.0    0.0   0.0  \n",
              "\n",
              "[5 rows x 1000 columns]"
            ],
            "text/html": [
              "\n",
              "\n",
              "  <div id=\"df-6c7671c4-69bd-43f3-85d7-3979dd94245a\">\n",
              "    <div class=\"colab-df-container\">\n",
              "      <div>\n",
              "<style scoped>\n",
              "    .dataframe tbody tr th:only-of-type {\n",
              "        vertical-align: middle;\n",
              "    }\n",
              "\n",
              "    .dataframe tbody tr th {\n",
              "        vertical-align: top;\n",
              "    }\n",
              "\n",
              "    .dataframe thead th {\n",
              "        text-align: right;\n",
              "    }\n",
              "</style>\n",
              "<table border=\"1\" class=\"dataframe\">\n",
              "  <thead>\n",
              "    <tr style=\"text-align: right;\">\n",
              "      <th></th>\n",
              "      <th>able</th>\n",
              "      <th>absolutely</th>\n",
              "      <th>acept</th>\n",
              "      <th>aces</th>\n",
              "      <th>acording</th>\n",
              "      <th>acount</th>\n",
              "      <th>acr</th>\n",
              "      <th>acros</th>\n",
              "      <th>act</th>\n",
              "      <th>action</th>\n",
              "      <th>...</th>\n",
              "      <th>wrong</th>\n",
              "      <th>wrote</th>\n",
              "      <th>xi</th>\n",
              "      <th>year</th>\n",
              "      <th>yearold</th>\n",
              "      <th>yemen</th>\n",
              "      <th>yes</th>\n",
              "      <th>york</th>\n",
              "      <th>young</th>\n",
              "      <th>zone</th>\n",
              "    </tr>\n",
              "  </thead>\n",
              "  <tbody>\n",
              "    <tr>\n",
              "      <th>0</th>\n",
              "      <td>0.0</td>\n",
              "      <td>0.0</td>\n",
              "      <td>0.0</td>\n",
              "      <td>0.0</td>\n",
              "      <td>0.0</td>\n",
              "      <td>0.0</td>\n",
              "      <td>0.0</td>\n",
              "      <td>0.0</td>\n",
              "      <td>0.0</td>\n",
              "      <td>0.0</td>\n",
              "      <td>...</td>\n",
              "      <td>0.0</td>\n",
              "      <td>0.0</td>\n",
              "      <td>0.0</td>\n",
              "      <td>1.0</td>\n",
              "      <td>0.0</td>\n",
              "      <td>0.0</td>\n",
              "      <td>0.0</td>\n",
              "      <td>0.0</td>\n",
              "      <td>0.0</td>\n",
              "      <td>0.0</td>\n",
              "    </tr>\n",
              "    <tr>\n",
              "      <th>1</th>\n",
              "      <td>0.0</td>\n",
              "      <td>0.0</td>\n",
              "      <td>0.0</td>\n",
              "      <td>0.0</td>\n",
              "      <td>0.0</td>\n",
              "      <td>0.0</td>\n",
              "      <td>0.0</td>\n",
              "      <td>0.0</td>\n",
              "      <td>0.0</td>\n",
              "      <td>0.0</td>\n",
              "      <td>...</td>\n",
              "      <td>0.0</td>\n",
              "      <td>0.0</td>\n",
              "      <td>0.0</td>\n",
              "      <td>0.0</td>\n",
              "      <td>0.0</td>\n",
              "      <td>0.0</td>\n",
              "      <td>0.0</td>\n",
              "      <td>0.0</td>\n",
              "      <td>0.0</td>\n",
              "      <td>0.0</td>\n",
              "    </tr>\n",
              "    <tr>\n",
              "      <th>2</th>\n",
              "      <td>0.0</td>\n",
              "      <td>0.0</td>\n",
              "      <td>0.0</td>\n",
              "      <td>0.0</td>\n",
              "      <td>0.0</td>\n",
              "      <td>0.0</td>\n",
              "      <td>0.0</td>\n",
              "      <td>0.0</td>\n",
              "      <td>0.0</td>\n",
              "      <td>0.0</td>\n",
              "      <td>...</td>\n",
              "      <td>0.0</td>\n",
              "      <td>0.0</td>\n",
              "      <td>0.0</td>\n",
              "      <td>0.0</td>\n",
              "      <td>0.0</td>\n",
              "      <td>0.0</td>\n",
              "      <td>0.0</td>\n",
              "      <td>1.0</td>\n",
              "      <td>0.0</td>\n",
              "      <td>0.0</td>\n",
              "    </tr>\n",
              "    <tr>\n",
              "      <th>3</th>\n",
              "      <td>0.0</td>\n",
              "      <td>0.0</td>\n",
              "      <td>0.0</td>\n",
              "      <td>0.0</td>\n",
              "      <td>0.0</td>\n",
              "      <td>0.0</td>\n",
              "      <td>0.0</td>\n",
              "      <td>0.0</td>\n",
              "      <td>0.0</td>\n",
              "      <td>0.0</td>\n",
              "      <td>...</td>\n",
              "      <td>0.0</td>\n",
              "      <td>0.0</td>\n",
              "      <td>0.0</td>\n",
              "      <td>0.0</td>\n",
              "      <td>0.0</td>\n",
              "      <td>0.0</td>\n",
              "      <td>0.0</td>\n",
              "      <td>0.0</td>\n",
              "      <td>0.0</td>\n",
              "      <td>0.0</td>\n",
              "    </tr>\n",
              "    <tr>\n",
              "      <th>4</th>\n",
              "      <td>0.0</td>\n",
              "      <td>0.0</td>\n",
              "      <td>0.0</td>\n",
              "      <td>0.0</td>\n",
              "      <td>0.0</td>\n",
              "      <td>0.0</td>\n",
              "      <td>0.0</td>\n",
              "      <td>0.0</td>\n",
              "      <td>0.0</td>\n",
              "      <td>0.0</td>\n",
              "      <td>...</td>\n",
              "      <td>0.0</td>\n",
              "      <td>0.0</td>\n",
              "      <td>0.0</td>\n",
              "      <td>0.0</td>\n",
              "      <td>0.0</td>\n",
              "      <td>0.0</td>\n",
              "      <td>0.0</td>\n",
              "      <td>0.0</td>\n",
              "      <td>0.0</td>\n",
              "      <td>0.0</td>\n",
              "    </tr>\n",
              "  </tbody>\n",
              "</table>\n",
              "<p>5 rows × 1000 columns</p>\n",
              "</div>\n",
              "      <button class=\"colab-df-convert\" onclick=\"convertToInteractive('df-6c7671c4-69bd-43f3-85d7-3979dd94245a')\"\n",
              "              title=\"Convert this dataframe to an interactive table.\"\n",
              "              style=\"display:none;\">\n",
              "\n",
              "  <svg xmlns=\"http://www.w3.org/2000/svg\" height=\"24px\"viewBox=\"0 0 24 24\"\n",
              "       width=\"24px\">\n",
              "    <path d=\"M0 0h24v24H0V0z\" fill=\"none\"/>\n",
              "    <path d=\"M18.56 5.44l.94 2.06.94-2.06 2.06-.94-2.06-.94-.94-2.06-.94 2.06-2.06.94zm-11 1L8.5 8.5l.94-2.06 2.06-.94-2.06-.94L8.5 2.5l-.94 2.06-2.06.94zm10 10l.94 2.06.94-2.06 2.06-.94-2.06-.94-.94-2.06-.94 2.06-2.06.94z\"/><path d=\"M17.41 7.96l-1.37-1.37c-.4-.4-.92-.59-1.43-.59-.52 0-1.04.2-1.43.59L10.3 9.45l-7.72 7.72c-.78.78-.78 2.05 0 2.83L4 21.41c.39.39.9.59 1.41.59.51 0 1.02-.2 1.41-.59l7.78-7.78 2.81-2.81c.8-.78.8-2.07 0-2.86zM5.41 20L4 18.59l7.72-7.72 1.47 1.35L5.41 20z\"/>\n",
              "  </svg>\n",
              "      </button>\n",
              "\n",
              "\n",
              "\n",
              "    <div id=\"df-1074a517-6ea7-48ee-986a-667df2f872e3\">\n",
              "      <button class=\"colab-df-quickchart\" onclick=\"quickchart('df-1074a517-6ea7-48ee-986a-667df2f872e3')\"\n",
              "              title=\"Suggest charts.\"\n",
              "              style=\"display:none;\">\n",
              "\n",
              "<svg xmlns=\"http://www.w3.org/2000/svg\" height=\"24px\"viewBox=\"0 0 24 24\"\n",
              "     width=\"24px\">\n",
              "    <g>\n",
              "        <path d=\"M19 3H5c-1.1 0-2 .9-2 2v14c0 1.1.9 2 2 2h14c1.1 0 2-.9 2-2V5c0-1.1-.9-2-2-2zM9 17H7v-7h2v7zm4 0h-2V7h2v10zm4 0h-2v-4h2v4z\"/>\n",
              "    </g>\n",
              "</svg>\n",
              "      </button>\n",
              "    </div>\n",
              "\n",
              "<style>\n",
              "  .colab-df-quickchart {\n",
              "    background-color: #E8F0FE;\n",
              "    border: none;\n",
              "    border-radius: 50%;\n",
              "    cursor: pointer;\n",
              "    display: none;\n",
              "    fill: #1967D2;\n",
              "    height: 32px;\n",
              "    padding: 0 0 0 0;\n",
              "    width: 32px;\n",
              "  }\n",
              "\n",
              "  .colab-df-quickchart:hover {\n",
              "    background-color: #E2EBFA;\n",
              "    box-shadow: 0px 1px 2px rgba(60, 64, 67, 0.3), 0px 1px 3px 1px rgba(60, 64, 67, 0.15);\n",
              "    fill: #174EA6;\n",
              "  }\n",
              "\n",
              "  [theme=dark] .colab-df-quickchart {\n",
              "    background-color: #3B4455;\n",
              "    fill: #D2E3FC;\n",
              "  }\n",
              "\n",
              "  [theme=dark] .colab-df-quickchart:hover {\n",
              "    background-color: #434B5C;\n",
              "    box-shadow: 0px 1px 3px 1px rgba(0, 0, 0, 0.15);\n",
              "    filter: drop-shadow(0px 1px 2px rgba(0, 0, 0, 0.3));\n",
              "    fill: #FFFFFF;\n",
              "  }\n",
              "</style>\n",
              "\n",
              "    <script>\n",
              "      async function quickchart(key) {\n",
              "        const containerElement = document.querySelector('#' + key);\n",
              "        const charts = await google.colab.kernel.invokeFunction(\n",
              "            'suggestCharts', [key], {});\n",
              "      }\n",
              "    </script>\n",
              "\n",
              "      <script>\n",
              "\n",
              "function displayQuickchartButton(domScope) {\n",
              "  let quickchartButtonEl =\n",
              "    domScope.querySelector('#df-1074a517-6ea7-48ee-986a-667df2f872e3 button.colab-df-quickchart');\n",
              "  quickchartButtonEl.style.display =\n",
              "    google.colab.kernel.accessAllowed ? 'block' : 'none';\n",
              "}\n",
              "\n",
              "        displayQuickchartButton(document);\n",
              "      </script>\n",
              "      <style>\n",
              "    .colab-df-container {\n",
              "      display:flex;\n",
              "      flex-wrap:wrap;\n",
              "      gap: 12px;\n",
              "    }\n",
              "\n",
              "    .colab-df-convert {\n",
              "      background-color: #E8F0FE;\n",
              "      border: none;\n",
              "      border-radius: 50%;\n",
              "      cursor: pointer;\n",
              "      display: none;\n",
              "      fill: #1967D2;\n",
              "      height: 32px;\n",
              "      padding: 0 0 0 0;\n",
              "      width: 32px;\n",
              "    }\n",
              "\n",
              "    .colab-df-convert:hover {\n",
              "      background-color: #E2EBFA;\n",
              "      box-shadow: 0px 1px 2px rgba(60, 64, 67, 0.3), 0px 1px 3px 1px rgba(60, 64, 67, 0.15);\n",
              "      fill: #174EA6;\n",
              "    }\n",
              "\n",
              "    [theme=dark] .colab-df-convert {\n",
              "      background-color: #3B4455;\n",
              "      fill: #D2E3FC;\n",
              "    }\n",
              "\n",
              "    [theme=dark] .colab-df-convert:hover {\n",
              "      background-color: #434B5C;\n",
              "      box-shadow: 0px 1px 3px 1px rgba(0, 0, 0, 0.15);\n",
              "      filter: drop-shadow(0px 1px 2px rgba(0, 0, 0, 0.3));\n",
              "      fill: #FFFFFF;\n",
              "    }\n",
              "  </style>\n",
              "\n",
              "      <script>\n",
              "        const buttonEl =\n",
              "          document.querySelector('#df-6c7671c4-69bd-43f3-85d7-3979dd94245a button.colab-df-convert');\n",
              "        buttonEl.style.display =\n",
              "          google.colab.kernel.accessAllowed ? 'block' : 'none';\n",
              "\n",
              "        async function convertToInteractive(key) {\n",
              "          const element = document.querySelector('#df-6c7671c4-69bd-43f3-85d7-3979dd94245a');\n",
              "          const dataTable =\n",
              "            await google.colab.kernel.invokeFunction('convertToInteractive',\n",
              "                                                     [key], {});\n",
              "          if (!dataTable) return;\n",
              "\n",
              "          const docLinkHtml = 'Like what you see? Visit the ' +\n",
              "            '<a target=\"_blank\" href=https://colab.research.google.com/notebooks/data_table.ipynb>data table notebook</a>'\n",
              "            + ' to learn more about interactive tables.';\n",
              "          element.innerHTML = '';\n",
              "          dataTable['output_type'] = 'display_data';\n",
              "          await google.colab.output.renderOutput(dataTable, element);\n",
              "          const docLink = document.createElement('div');\n",
              "          docLink.innerHTML = docLinkHtml;\n",
              "          element.appendChild(docLink);\n",
              "        }\n",
              "      </script>\n",
              "    </div>\n",
              "  </div>\n"
            ]
          },
          "metadata": {},
          "execution_count": 41
        }
      ],
      "source": [
        "# Perform TF-IDF vectorization on the 'text' data in the 'data' DataFrame\n",
        "unigramdataGet = word_vectorizer.fit_transform(data['text'].astype('str'))\n",
        "\n",
        "# Convert the TF-IDF matrix to a dense array\n",
        "unigramdataGet = unigramdataGet.toarray()\n",
        "\n",
        "# Get the vocabulary (words) learned by the TF-IDF vectorizer\n",
        "vocab = word_vectorizer.get_feature_names_out()\n",
        "\n",
        "# Create a binary matrix representation of the TF-IDF values\n",
        "unigramdata = pd.DataFrame(np.round(unigramdataGet, 1), columns=vocab)\n",
        "unigramdata[unigramdata > 0] = 1\n",
        "\n",
        "# Display the first few rows of the resulting binary matrix\n",
        "unigramdata.head()\n"
      ]
    },
    {
      "cell_type": "markdown",
      "metadata": {
        "papermill": {
          "duration": 0.116031,
          "end_time": "2020-12-21T10:11:13.137545",
          "exception": false,
          "start_time": "2020-12-21T10:11:13.021514",
          "status": "completed"
        },
        "tags": [],
        "id": "MYc3deR4nvuz"
      },
      "source": [
        "# First 100 words of vocab"
      ]
    },
    {
      "cell_type": "code",
      "execution_count": null,
      "metadata": {
        "execution": {
          "iopub.execute_input": "2021-08-15T10:09:08.368319Z",
          "iopub.status.busy": "2021-08-15T10:09:08.367692Z",
          "iopub.status.idle": "2021-08-15T10:09:08.377617Z",
          "shell.execute_reply": "2021-08-15T10:09:08.376698Z",
          "shell.execute_reply.started": "2021-08-15T10:09:08.368272Z"
        },
        "papermill": {
          "duration": 0.127958,
          "end_time": "2020-12-21T10:11:13.380985",
          "exception": false,
          "start_time": "2020-12-21T10:11:13.253027",
          "status": "completed"
        },
        "tags": [],
        "id": "p8M4A1c0nvuz"
      },
      "outputs": [],
      "source": [
        "# Extract the first 100 words from the vocabulary learned by the TF-IDF vectorizer\n",
        "vocab_subset = vocab[0:100]\n"
      ]
    },
    {
      "cell_type": "code",
      "execution_count": null,
      "metadata": {
        "execution": {
          "iopub.execute_input": "2021-08-15T10:09:14.461609Z",
          "iopub.status.busy": "2021-08-15T10:09:14.461258Z",
          "iopub.status.idle": "2021-08-15T10:09:14.468717Z",
          "shell.execute_reply": "2021-08-15T10:09:14.467380Z",
          "shell.execute_reply.started": "2021-08-15T10:09:14.461577Z"
        },
        "papermill": {
          "duration": 0.125951,
          "end_time": "2020-12-21T10:11:13.625638",
          "exception": false,
          "start_time": "2020-12-21T10:11:13.499687",
          "status": "completed"
        },
        "tags": [],
        "colab": {
          "base_uri": "https://localhost:8080/"
        },
        "id": "K-0tKOZ4nvuz",
        "outputId": "2d51b35b-d41d-4d75-cb8b-4f53d4ef784d"
      },
      "outputs": [
        {
          "output_type": "stream",
          "name": "stdout",
          "text": [
            "Vocab Length: 1000\n"
          ]
        }
      ],
      "source": [
        "# Calculate and print the length of the vocabulary learned by the TF-IDF vectorizer\n",
        "vocab_length = len(vocab)\n",
        "print('Vocab Length:', vocab_length)\n"
      ]
    },
    {
      "cell_type": "code",
      "execution_count": null,
      "metadata": {
        "execution": {
          "iopub.execute_input": "2021-08-15T10:09:17.330487Z",
          "iopub.status.busy": "2021-08-15T10:09:17.330144Z",
          "iopub.status.idle": "2021-08-15T10:09:17.335937Z",
          "shell.execute_reply": "2021-08-15T10:09:17.335015Z",
          "shell.execute_reply.started": "2021-08-15T10:09:17.330456Z"
        },
        "papermill": {
          "duration": 0.130262,
          "end_time": "2020-12-21T10:11:13.871386",
          "exception": false,
          "start_time": "2020-12-21T10:11:13.741124",
          "status": "completed"
        },
        "tags": [],
        "colab": {
          "base_uri": "https://localhost:8080/"
        },
        "id": "HJZIB7j9nvu0",
        "outputId": "4320330b-d6aa-4baf-c85e-c376a8cf2aeb"
      },
      "outputs": [
        {
          "output_type": "execute_result",
          "data": {
            "text/plain": [
              "44898"
            ]
          },
          "metadata": {},
          "execution_count": 44
        }
      ],
      "source": [
        "len(unigramdata)"
      ]
    },
    {
      "cell_type": "markdown",
      "metadata": {
        "papermill": {
          "duration": 0.144891,
          "end_time": "2020-12-21T10:11:16.297388",
          "exception": false,
          "start_time": "2020-12-21T10:11:16.152497",
          "status": "completed"
        },
        "tags": [],
        "id": "keapAywunvu0"
      },
      "source": [
        "# Deleteing the text column because we have been extracted features from this"
      ]
    },
    {
      "cell_type": "code",
      "execution_count": null,
      "metadata": {
        "execution": {
          "iopub.execute_input": "2021-08-15T10:09:19.993886Z",
          "iopub.status.busy": "2021-08-15T10:09:19.993555Z",
          "iopub.status.idle": "2021-08-15T10:09:20.002088Z",
          "shell.execute_reply": "2021-08-15T10:09:20.001125Z",
          "shell.execute_reply.started": "2021-08-15T10:09:19.993857Z"
        },
        "papermill": {
          "duration": 0.130711,
          "end_time": "2020-12-21T10:11:16.545939",
          "exception": false,
          "start_time": "2020-12-21T10:11:16.415228",
          "status": "completed"
        },
        "tags": [],
        "id": "6T-hto8Bnvu0"
      },
      "outputs": [],
      "source": [
        "# Reset the index of the DataFrame and drop the 'text' column\n",
        "\n",
        "# Reset the index of the DataFrame while dropping the old index.\n",
        "# The 'drop=True' argument ensures that the old index is dropped, and the 'inplace=True' argument applies the changes directly to the 'data' DataFrame.\n",
        "data.reset_index(drop=True, inplace=True)\n",
        "\n",
        "# Drop the 'text' column from the DataFrame.\n",
        "# The result of the 'drop()' operation is assigned back to the 'data' DataFrame, effectively removing the 'text' column from it.\n",
        "data = data.drop(columns=['text'])\n"
      ]
    },
    {
      "cell_type": "markdown",
      "metadata": {
        "papermill": {
          "duration": 0.119188,
          "end_time": "2020-12-21T10:11:16.790174",
          "exception": false,
          "start_time": "2020-12-21T10:11:16.670986",
          "status": "completed"
        },
        "tags": [],
        "id": "PdLgaJkhnvu0"
      },
      "source": [
        "# Feature selection from the extracted features of unigram"
      ]
    },
    {
      "cell_type": "code",
      "execution_count": null,
      "metadata": {
        "execution": {
          "iopub.execute_input": "2021-08-15T10:09:23.966400Z",
          "iopub.status.busy": "2021-08-15T10:09:23.966038Z",
          "iopub.status.idle": "2021-08-15T10:09:24.695455Z",
          "shell.execute_reply": "2021-08-15T10:09:24.694513Z",
          "shell.execute_reply.started": "2021-08-15T10:09:23.966365Z"
        },
        "papermill": {
          "duration": 0.31756,
          "end_time": "2020-12-21T10:11:17.225137",
          "exception": false,
          "start_time": "2020-12-21T10:11:16.907577",
          "status": "completed"
        },
        "tags": [],
        "colab": {
          "base_uri": "https://localhost:8080/"
        },
        "id": "Sh5G4AEZnvu0",
        "outputId": "053ffe36-575d-4fa1-b7b5-3eb869ce43d8"
      },
      "outputs": [
        {
          "output_type": "stream",
          "name": "stdout",
          "text": [
            "(44898, 700)\n"
          ]
        }
      ],
      "source": [
        "from sklearn.feature_selection import chi2\n",
        "from sklearn.feature_selection import SelectKBest\n",
        "\n",
        "# Create a SelectKBest object with chi-squared test as the scoring function and k=700 features to select.\n",
        "selector = SelectKBest(chi2, k=700)\n",
        "\n",
        "# Fit the SelectKBest object to the 'unigramdata' DataFrame and the corresponding labels in 'data' DataFrame.\n",
        "selector.fit(unigramdata, data['label'])\n",
        "\n",
        "# Transform the 'unigramdata' DataFrame to include only the top 700 selected features.\n",
        "unigramdata = selector.transform(unigramdata)\n",
        "\n",
        "# Print the shape of the resulting 'unigramdata'.\n",
        "print(unigramdata.shape)\n"
      ]
    },
    {
      "cell_type": "markdown",
      "metadata": {
        "papermill": {
          "duration": 0.11865,
          "end_time": "2020-12-21T10:11:18.566957",
          "exception": false,
          "start_time": "2020-12-21T10:11:18.448307",
          "status": "completed"
        },
        "tags": [],
        "id": "gSlvsethnvu0"
      },
      "source": [
        "# -----------------------Traning and Testing with Unigram Features------------------------"
      ]
    },
    {
      "cell_type": "code",
      "execution_count": null,
      "metadata": {
        "execution": {
          "iopub.execute_input": "2021-08-15T10:09:27.576030Z",
          "iopub.status.busy": "2021-08-15T10:09:27.575689Z",
          "iopub.status.idle": "2021-08-15T10:09:27.580525Z",
          "shell.execute_reply": "2021-08-15T10:09:27.579340Z",
          "shell.execute_reply.started": "2021-08-15T10:09:27.575993Z"
        },
        "papermill": {
          "duration": 0.127594,
          "end_time": "2020-12-21T10:11:19.053898",
          "exception": false,
          "start_time": "2020-12-21T10:11:18.926304",
          "status": "completed"
        },
        "tags": [],
        "id": "b0sqtt0ynvu0"
      },
      "outputs": [],
      "source": [
        "# Assign 'unigramdata' to the feature matrix 'X'\n",
        "X = unigramdata\n",
        "\n",
        "# Assign the 'label' column from 'data' to the target vector 'y'\n",
        "y = data['label']"
      ]
    },
    {
      "cell_type": "markdown",
      "metadata": {
        "papermill": {
          "duration": 0.122288,
          "end_time": "2020-12-21T10:11:21.64087",
          "exception": false,
          "start_time": "2020-12-21T10:11:21.518582",
          "status": "completed"
        },
        "tags": [],
        "id": "f_DMSFeFnvu1"
      },
      "source": [
        "# Spliting Dataset into 70% Training and 30% Testing"
      ]
    },
    {
      "cell_type": "code",
      "execution_count": null,
      "metadata": {
        "execution": {
          "iopub.execute_input": "2021-08-15T10:09:31.030221Z",
          "iopub.status.busy": "2021-08-15T10:09:31.029878Z",
          "iopub.status.idle": "2021-08-15T10:09:31.384765Z",
          "shell.execute_reply": "2021-08-15T10:09:31.383943Z",
          "shell.execute_reply.started": "2021-08-15T10:09:31.030191Z"
        },
        "papermill": {
          "duration": 0.152334,
          "end_time": "2020-12-21T10:11:21.917524",
          "exception": false,
          "start_time": "2020-12-21T10:11:21.76519",
          "status": "completed"
        },
        "tags": [],
        "id": "S9Vg0Puvnvu1"
      },
      "outputs": [],
      "source": [
        "from sklearn.model_selection import train_test_split\n",
        "\n",
        "# Split the data into training and testing sets with a test size of 30% and random state 100 for reproducibility.\n",
        "X_train, X_test, y_train, y_test = train_test_split(X, y, test_size=0.30, random_state=100)\n"
      ]
    },
    {
      "cell_type": "markdown",
      "metadata": {
        "papermill": {
          "duration": 0.126288,
          "end_time": "2020-12-21T10:11:22.894066",
          "exception": false,
          "start_time": "2020-12-21T10:11:22.767778",
          "status": "completed"
        },
        "tags": [],
        "id": "ATIgVqscnvu1"
      },
      "source": [
        "# SVM Support Vector Machine Algorithm"
      ]
    },
    {
      "cell_type": "code",
      "execution_count": null,
      "metadata": {
        "execution": {
          "iopub.execute_input": "2021-08-15T10:09:33.573113Z",
          "iopub.status.busy": "2021-08-15T10:09:33.572786Z",
          "iopub.status.idle": "2021-08-15T10:09:34.231803Z",
          "shell.execute_reply": "2021-08-15T10:09:34.230568Z",
          "shell.execute_reply.started": "2021-08-15T10:09:33.573082Z"
        },
        "papermill": {
          "duration": 0.199252,
          "end_time": "2020-12-21T10:11:23.216155",
          "exception": false,
          "start_time": "2020-12-21T10:11:23.016903",
          "status": "completed"
        },
        "tags": [],
        "colab": {
          "base_uri": "https://localhost:8080/",
          "height": 74
        },
        "id": "OrDo-jp2nvu1",
        "outputId": "33533976-b1c2-4c41-a15a-fbdfaac236da"
      },
      "outputs": [
        {
          "output_type": "execute_result",
          "data": {
            "text/plain": [
              "LinearSVC(C=1, max_iter=500)"
            ],
            "text/html": [
              "<style>#sk-container-id-1 {color: black;background-color: white;}#sk-container-id-1 pre{padding: 0;}#sk-container-id-1 div.sk-toggleable {background-color: white;}#sk-container-id-1 label.sk-toggleable__label {cursor: pointer;display: block;width: 100%;margin-bottom: 0;padding: 0.3em;box-sizing: border-box;text-align: center;}#sk-container-id-1 label.sk-toggleable__label-arrow:before {content: \"▸\";float: left;margin-right: 0.25em;color: #696969;}#sk-container-id-1 label.sk-toggleable__label-arrow:hover:before {color: black;}#sk-container-id-1 div.sk-estimator:hover label.sk-toggleable__label-arrow:before {color: black;}#sk-container-id-1 div.sk-toggleable__content {max-height: 0;max-width: 0;overflow: hidden;text-align: left;background-color: #f0f8ff;}#sk-container-id-1 div.sk-toggleable__content pre {margin: 0.2em;color: black;border-radius: 0.25em;background-color: #f0f8ff;}#sk-container-id-1 input.sk-toggleable__control:checked~div.sk-toggleable__content {max-height: 200px;max-width: 100%;overflow: auto;}#sk-container-id-1 input.sk-toggleable__control:checked~label.sk-toggleable__label-arrow:before {content: \"▾\";}#sk-container-id-1 div.sk-estimator input.sk-toggleable__control:checked~label.sk-toggleable__label {background-color: #d4ebff;}#sk-container-id-1 div.sk-label input.sk-toggleable__control:checked~label.sk-toggleable__label {background-color: #d4ebff;}#sk-container-id-1 input.sk-hidden--visually {border: 0;clip: rect(1px 1px 1px 1px);clip: rect(1px, 1px, 1px, 1px);height: 1px;margin: -1px;overflow: hidden;padding: 0;position: absolute;width: 1px;}#sk-container-id-1 div.sk-estimator {font-family: monospace;background-color: #f0f8ff;border: 1px dotted black;border-radius: 0.25em;box-sizing: border-box;margin-bottom: 0.5em;}#sk-container-id-1 div.sk-estimator:hover {background-color: #d4ebff;}#sk-container-id-1 div.sk-parallel-item::after {content: \"\";width: 100%;border-bottom: 1px solid gray;flex-grow: 1;}#sk-container-id-1 div.sk-label:hover label.sk-toggleable__label {background-color: #d4ebff;}#sk-container-id-1 div.sk-serial::before {content: \"\";position: absolute;border-left: 1px solid gray;box-sizing: border-box;top: 0;bottom: 0;left: 50%;z-index: 0;}#sk-container-id-1 div.sk-serial {display: flex;flex-direction: column;align-items: center;background-color: white;padding-right: 0.2em;padding-left: 0.2em;position: relative;}#sk-container-id-1 div.sk-item {position: relative;z-index: 1;}#sk-container-id-1 div.sk-parallel {display: flex;align-items: stretch;justify-content: center;background-color: white;position: relative;}#sk-container-id-1 div.sk-item::before, #sk-container-id-1 div.sk-parallel-item::before {content: \"\";position: absolute;border-left: 1px solid gray;box-sizing: border-box;top: 0;bottom: 0;left: 50%;z-index: -1;}#sk-container-id-1 div.sk-parallel-item {display: flex;flex-direction: column;z-index: 1;position: relative;background-color: white;}#sk-container-id-1 div.sk-parallel-item:first-child::after {align-self: flex-end;width: 50%;}#sk-container-id-1 div.sk-parallel-item:last-child::after {align-self: flex-start;width: 50%;}#sk-container-id-1 div.sk-parallel-item:only-child::after {width: 0;}#sk-container-id-1 div.sk-dashed-wrapped {border: 1px dashed gray;margin: 0 0.4em 0.5em 0.4em;box-sizing: border-box;padding-bottom: 0.4em;background-color: white;}#sk-container-id-1 div.sk-label label {font-family: monospace;font-weight: bold;display: inline-block;line-height: 1.2em;}#sk-container-id-1 div.sk-label-container {text-align: center;}#sk-container-id-1 div.sk-container {/* jupyter's `normalize.less` sets `[hidden] { display: none; }` but bootstrap.min.css set `[hidden] { display: none !important; }` so we also need the `!important` here to be able to override the default hidden behavior on the sphinx rendered scikit-learn.org. See: https://github.com/scikit-learn/scikit-learn/issues/21755 */display: inline-block !important;position: relative;}#sk-container-id-1 div.sk-text-repr-fallback {display: none;}</style><div id=\"sk-container-id-1\" class=\"sk-top-container\"><div class=\"sk-text-repr-fallback\"><pre>LinearSVC(C=1, max_iter=500)</pre><b>In a Jupyter environment, please rerun this cell to show the HTML representation or trust the notebook. <br />On GitHub, the HTML representation is unable to render, please try loading this page with nbviewer.org.</b></div><div class=\"sk-container\" hidden><div class=\"sk-item\"><div class=\"sk-estimator sk-toggleable\"><input class=\"sk-toggleable__control sk-hidden--visually\" id=\"sk-estimator-id-1\" type=\"checkbox\" checked><label for=\"sk-estimator-id-1\" class=\"sk-toggleable__label sk-toggleable__label-arrow\">LinearSVC</label><div class=\"sk-toggleable__content\"><pre>LinearSVC(C=1, max_iter=500)</pre></div></div></div></div></div>"
            ]
          },
          "metadata": {},
          "execution_count": 49
        }
      ],
      "source": [
        "from sklearn.svm import LinearSVC\n",
        "\n",
        "# Create a LinearSVC model with regularization parameter C=1 and a maximum number of iterations max_iter=500.\n",
        "svc = LinearSVC(C=1, max_iter=500)\n",
        "\n",
        "# Fit (train) the LinearSVC model using the training data.\n",
        "svc = svc.fit(X_train, y_train)\n",
        "\n",
        "# Return the trained LinearSVC model.\n",
        "svc\n"
      ]
    },
    {
      "cell_type": "markdown",
      "metadata": {
        "papermill": {
          "duration": 0.125003,
          "end_time": "2020-12-21T10:11:23.462568",
          "exception": false,
          "start_time": "2020-12-21T10:11:23.337565",
          "status": "completed"
        },
        "tags": [],
        "id": "H0g58Ff7nvu1"
      },
      "source": [
        "# Accuracy"
      ]
    },
    {
      "cell_type": "code",
      "execution_count": null,
      "metadata": {
        "execution": {
          "iopub.execute_input": "2021-08-15T10:09:37.265719Z",
          "iopub.status.busy": "2021-08-15T10:09:37.265377Z",
          "iopub.status.idle": "2021-08-15T10:09:37.390270Z",
          "shell.execute_reply": "2021-08-15T10:09:37.389391Z",
          "shell.execute_reply.started": "2021-08-15T10:09:37.265691Z"
        },
        "papermill": {
          "duration": 0.170469,
          "end_time": "2020-12-21T10:11:23.752916",
          "exception": false,
          "start_time": "2020-12-21T10:11:23.582447",
          "status": "completed"
        },
        "tags": [],
        "colab": {
          "base_uri": "https://localhost:8080/"
        },
        "id": "zzzhnmjunvu1",
        "outputId": "d71b5ee9-75df-4d3b-c739-4075a8ba6f33"
      },
      "outputs": [
        {
          "output_type": "stream",
          "name": "stdout",
          "text": [
            "Accuracy score = 0.80\n"
          ]
        }
      ],
      "source": [
        "# Use the trained LinearSVC model to predict labels for the test data.\n",
        "y_pred1 = svc.predict(X_test)\n",
        "\n",
        "# Calculate the accuracy of the model by comparing the predicted labels (y_pred1) with the true labels (y_test).\n",
        "dm = svc.score(X_test, y_test)\n",
        "\n",
        "# Print the accuracy score of the model.\n",
        "print('Accuracy score = {:.2f}'.format(dm))\n"
      ]
    },
    {
      "cell_type": "markdown",
      "metadata": {
        "papermill": {
          "duration": 0.121648,
          "end_time": "2020-12-21T10:11:23.999351",
          "exception": false,
          "start_time": "2020-12-21T10:11:23.877703",
          "status": "completed"
        },
        "tags": [],
        "id": "3WtSQ-qHnvu2"
      },
      "source": [
        "# Precision, Recall, F1"
      ]
    },
    {
      "cell_type": "code",
      "execution_count": null,
      "metadata": {
        "execution": {
          "iopub.execute_input": "2021-08-15T10:09:40.366359Z",
          "iopub.status.busy": "2021-08-15T10:09:40.365997Z",
          "iopub.status.idle": "2021-08-15T10:09:41.102149Z",
          "shell.execute_reply": "2021-08-15T10:09:41.101209Z",
          "shell.execute_reply.started": "2021-08-15T10:09:40.366313Z"
        },
        "papermill": {
          "duration": 0.313376,
          "end_time": "2020-12-21T10:11:24.432979",
          "exception": false,
          "start_time": "2020-12-21T10:11:24.119603",
          "status": "completed"
        },
        "tags": [],
        "colab": {
          "base_uri": "https://localhost:8080/"
        },
        "id": "5hlgpc2invu2",
        "outputId": "2dba05a4-248d-464f-eff0-e658a120a127"
      },
      "outputs": [
        {
          "output_type": "stream",
          "name": "stdout",
          "text": [
            "\n",
            "\n",
            "Precision, Recall, F1\n",
            "\n",
            "\n",
            "              precision    recall  f1-score   support\n",
            "\n",
            "        fake       0.85      0.71      0.77      6414\n",
            "        true       0.77      0.88      0.82      7056\n",
            "\n",
            "    accuracy                           0.80     13470\n",
            "   macro avg       0.81      0.79      0.80     13470\n",
            "weighted avg       0.81      0.80      0.80     13470\n",
            "\n",
            "\n",
            "\n"
          ]
        }
      ],
      "source": [
        "from sklearn.metrics import classification_report, confusion_matrix\n",
        "\n",
        "# Generate the classification report using the true labels (y_test) and the predicted labels (y_pred1).\n",
        "CR = classification_report(y_test, y_pred1)\n",
        "\n",
        "# Print the classification report, which contains precision, recall, F1-score, and other metrics for each class.\n",
        "print('\\n')\n",
        "print(\"Precision, Recall, F1\")\n",
        "print('\\n')\n",
        "print(CR)\n",
        "print('\\n')\n"
      ]
    },
    {
      "cell_type": "markdown",
      "metadata": {
        "papermill": {
          "duration": 0.122107,
          "end_time": "2020-12-21T10:11:24.679127",
          "exception": false,
          "start_time": "2020-12-21T10:11:24.55702",
          "status": "completed"
        },
        "tags": [],
        "id": "cg57R2WXnvu2"
      },
      "source": [
        "# Confusion Matrix"
      ]
    },
    {
      "cell_type": "code",
      "execution_count": null,
      "metadata": {
        "execution": {
          "iopub.execute_input": "2021-08-15T10:09:46.230774Z",
          "iopub.status.busy": "2021-08-15T10:09:46.230423Z",
          "iopub.status.idle": "2021-08-15T10:09:46.776657Z",
          "shell.execute_reply": "2021-08-15T10:09:46.775974Z",
          "shell.execute_reply.started": "2021-08-15T10:09:46.230744Z"
        },
        "papermill": {
          "duration": 0.585897,
          "end_time": "2020-12-21T10:11:25.388691",
          "exception": false,
          "start_time": "2020-12-21T10:11:24.802794",
          "status": "completed"
        },
        "tags": [],
        "colab": {
          "base_uri": "https://localhost:8080/",
          "height": 971
        },
        "id": "MA4Mwjm0nvu2",
        "outputId": "997b45d4-d7c8-4e53-9c77-ed247b8a01ec"
      },
      "outputs": [
        {
          "output_type": "stream",
          "name": "stdout",
          "text": [
            "\n",
            "\n",
            "Confusion Matrix\n",
            "\n",
            "\n",
            "[[4525 1889]\n",
            " [ 818 6238]]\n",
            "\n",
            "\n"
          ]
        },
        {
          "output_type": "display_data",
          "data": {
            "text/plain": [
              "<Figure size 1000x1000 with 2 Axes>"
            ],
            "image/png": "[encoded data removed]"
          },
          "metadata": {}
        }
      ],
      "source": [
        "from sklearn.metrics import classification_report, confusion_matrix\n",
        "from mlxtend.plotting import plot_confusion_matrix\n",
        "\n",
        "# Compute the confusion matrix using the true labels (y_test) and the predicted labels (y_pred1).\n",
        "CR = confusion_matrix(y_test, y_pred1)\n",
        "\n",
        "# Print the confusion matrix.\n",
        "print('\\n')\n",
        "print(\"Confusion Matrix\")\n",
        "print('\\n')\n",
        "print(CR)\n",
        "print('\\n')\n",
        "\n",
        "# Visualize the confusion matrix using the plot_confusion_matrix function.\n",
        "fig, ax = plot_confusion_matrix(conf_mat=CR, figsize=(10, 10),\n",
        "                                show_absolute=True,\n",
        "                                show_normed=True,\n",
        "                                colorbar=True)\n",
        "plt.show()\n"
      ]
    },
    {
      "cell_type": "markdown",
      "metadata": {
        "papermill": {
          "duration": 0.122479,
          "end_time": "2020-12-21T10:11:26.377668",
          "exception": false,
          "start_time": "2020-12-21T10:11:26.255189",
          "status": "completed"
        },
        "tags": [],
        "id": "KN0iywCZnvu2"
      },
      "source": [
        "# Naive Bayes Algorithm"
      ]
    },
    {
      "cell_type": "code",
      "execution_count": null,
      "metadata": {
        "execution": {
          "iopub.execute_input": "2021-08-15T10:09:50.148809Z",
          "iopub.status.busy": "2021-08-15T10:09:50.148477Z",
          "iopub.status.idle": "2021-08-15T10:09:50.512875Z",
          "shell.execute_reply": "2021-08-15T10:09:50.511960Z",
          "shell.execute_reply.started": "2021-08-15T10:09:50.148778Z"
        },
        "papermill": {
          "duration": 0.227348,
          "end_time": "2020-12-21T10:11:26.730004",
          "exception": false,
          "start_time": "2020-12-21T10:11:26.502656",
          "status": "completed"
        },
        "tags": [],
        "colab": {
          "base_uri": "https://localhost:8080/",
          "height": 74
        },
        "id": "Iy9eIjGRnvu2",
        "outputId": "b8455a9d-bef1-42c5-f375-467bd696481a"
      },
      "outputs": [
        {
          "output_type": "execute_result",
          "data": {
            "text/plain": [
              "GaussianNB(var_smoothing=1e-08)"
            ],
            "text/html": [
              "<style>#sk-container-id-2 {color: black;background-color: white;}#sk-container-id-2 pre{padding: 0;}#sk-container-id-2 div.sk-toggleable {background-color: white;}#sk-container-id-2 label.sk-toggleable__label {cursor: pointer;display: block;width: 100%;margin-bottom: 0;padding: 0.3em;box-sizing: border-box;text-align: center;}#sk-container-id-2 label.sk-toggleable__label-arrow:before {content: \"▸\";float: left;margin-right: 0.25em;color: #696969;}#sk-container-id-2 label.sk-toggleable__label-arrow:hover:before {color: black;}#sk-container-id-2 div.sk-estimator:hover label.sk-toggleable__label-arrow:before {color: black;}#sk-container-id-2 div.sk-toggleable__content {max-height: 0;max-width: 0;overflow: hidden;text-align: left;background-color: #f0f8ff;}#sk-container-id-2 div.sk-toggleable__content pre {margin: 0.2em;color: black;border-radius: 0.25em;background-color: #f0f8ff;}#sk-container-id-2 input.sk-toggleable__control:checked~div.sk-toggleable__content {max-height: 200px;max-width: 100%;overflow: auto;}#sk-container-id-2 input.sk-toggleable__control:checked~label.sk-toggleable__label-arrow:before {content: \"▾\";}#sk-container-id-2 div.sk-estimator input.sk-toggleable__control:checked~label.sk-toggleable__label {background-color: #d4ebff;}#sk-container-id-2 div.sk-label input.sk-toggleable__control:checked~label.sk-toggleable__label {background-color: #d4ebff;}#sk-container-id-2 input.sk-hidden--visually {border: 0;clip: rect(1px 1px 1px 1px);clip: rect(1px, 1px, 1px, 1px);height: 1px;margin: -1px;overflow: hidden;padding: 0;position: absolute;width: 1px;}#sk-container-id-2 div.sk-estimator {font-family: monospace;background-color: #f0f8ff;border: 1px dotted black;border-radius: 0.25em;box-sizing: border-box;margin-bottom: 0.5em;}#sk-container-id-2 div.sk-estimator:hover {background-color: #d4ebff;}#sk-container-id-2 div.sk-parallel-item::after {content: \"\";width: 100%;border-bottom: 1px solid gray;flex-grow: 1;}#sk-container-id-2 div.sk-label:hover label.sk-toggleable__label {background-color: #d4ebff;}#sk-container-id-2 div.sk-serial::before {content: \"\";position: absolute;border-left: 1px solid gray;box-sizing: border-box;top: 0;bottom: 0;left: 50%;z-index: 0;}#sk-container-id-2 div.sk-serial {display: flex;flex-direction: column;align-items: center;background-color: white;padding-right: 0.2em;padding-left: 0.2em;position: relative;}#sk-container-id-2 div.sk-item {position: relative;z-index: 1;}#sk-container-id-2 div.sk-parallel {display: flex;align-items: stretch;justify-content: center;background-color: white;position: relative;}#sk-container-id-2 div.sk-item::before, #sk-container-id-2 div.sk-parallel-item::before {content: \"\";position: absolute;border-left: 1px solid gray;box-sizing: border-box;top: 0;bottom: 0;left: 50%;z-index: -1;}#sk-container-id-2 div.sk-parallel-item {display: flex;flex-direction: column;z-index: 1;position: relative;background-color: white;}#sk-container-id-2 div.sk-parallel-item:first-child::after {align-self: flex-end;width: 50%;}#sk-container-id-2 div.sk-parallel-item:last-child::after {align-self: flex-start;width: 50%;}#sk-container-id-2 div.sk-parallel-item:only-child::after {width: 0;}#sk-container-id-2 div.sk-dashed-wrapped {border: 1px dashed gray;margin: 0 0.4em 0.5em 0.4em;box-sizing: border-box;padding-bottom: 0.4em;background-color: white;}#sk-container-id-2 div.sk-label label {font-family: monospace;font-weight: bold;display: inline-block;line-height: 1.2em;}#sk-container-id-2 div.sk-label-container {text-align: center;}#sk-container-id-2 div.sk-container {/* jupyter's `normalize.less` sets `[hidden] { display: none; }` but bootstrap.min.css set `[hidden] { display: none !important; }` so we also need the `!important` here to be able to override the default hidden behavior on the sphinx rendered scikit-learn.org. See: https://github.com/scikit-learn/scikit-learn/issues/21755 */display: inline-block !important;position: relative;}#sk-container-id-2 div.sk-text-repr-fallback {display: none;}</style><div id=\"sk-container-id-2\" class=\"sk-top-container\"><div class=\"sk-text-repr-fallback\"><pre>GaussianNB(var_smoothing=1e-08)</pre><b>In a Jupyter environment, please rerun this cell to show the HTML representation or trust the notebook. <br />On GitHub, the HTML representation is unable to render, please try loading this page with nbviewer.org.</b></div><div class=\"sk-container\" hidden><div class=\"sk-item\"><div class=\"sk-estimator sk-toggleable\"><input class=\"sk-toggleable__control sk-hidden--visually\" id=\"sk-estimator-id-2\" type=\"checkbox\" checked><label for=\"sk-estimator-id-2\" class=\"sk-toggleable__label sk-toggleable__label-arrow\">GaussianNB</label><div class=\"sk-toggleable__content\"><pre>GaussianNB(var_smoothing=1e-08)</pre></div></div></div></div></div>"
            ]
          },
          "metadata": {},
          "execution_count": 53
        }
      ],
      "source": [
        "from sklearn.naive_bayes import GaussianNB\n",
        "from sklearn.svm import LinearSVC\n",
        "\n",
        "# Create a Gaussian Naive Bayes classifier with the var_smoothing parameter set to 1e-08.\n",
        "nab = GaussianNB(var_smoothing=1e-08)\n",
        "\n",
        "# Fit (train) the Gaussian Naive Bayes classifier using the training data.\n",
        "nab = nab.fit(X_train, y_train)\n",
        "\n",
        "# Return the trained Gaussian Naive Bayes classifier.\n",
        "nab\n"
      ]
    },
    {
      "cell_type": "markdown",
      "metadata": {
        "papermill": {
          "duration": 0.129425,
          "end_time": "2020-12-21T10:11:26.986373",
          "exception": false,
          "start_time": "2020-12-21T10:11:26.856948",
          "status": "completed"
        },
        "tags": [],
        "id": "o_6v8Py8nvu2"
      },
      "source": [
        "# Accuracy"
      ]
    },
    {
      "cell_type": "code",
      "execution_count": null,
      "metadata": {
        "execution": {
          "iopub.execute_input": "2021-08-15T10:09:52.525737Z",
          "iopub.status.busy": "2021-08-15T10:09:52.525404Z",
          "iopub.status.idle": "2021-08-15T10:09:53.014276Z",
          "shell.execute_reply": "2021-08-15T10:09:53.013359Z",
          "shell.execute_reply.started": "2021-08-15T10:09:52.525707Z"
        },
        "papermill": {
          "duration": 0.269368,
          "end_time": "2020-12-21T10:11:27.381801",
          "exception": false,
          "start_time": "2020-12-21T10:11:27.112433",
          "status": "completed"
        },
        "tags": [],
        "colab": {
          "base_uri": "https://localhost:8080/"
        },
        "id": "IApNHrbSnvu3",
        "outputId": "2efc4176-4888-490a-8727-adfe72925279"
      },
      "outputs": [
        {
          "output_type": "stream",
          "name": "stdout",
          "text": [
            "Accuracy score = 0.73\n"
          ]
        }
      ],
      "source": [
        "# Use the trained Gaussian Naive Bayes classifier to predict labels for the test data.\n",
        "y_pred1 = nab.predict(X_test)\n",
        "\n",
        "# Calculate the accuracy of the model by comparing the predicted labels (y_pred1) with the true labels (y_test).\n",
        "nb = nab.score(X_test, y_test)\n",
        "\n",
        "# Print the accuracy score of the model.\n",
        "print('Accuracy score = {:.2f}'.format(nb))\n"
      ]
    },
    {
      "cell_type": "markdown",
      "metadata": {
        "papermill": {
          "duration": 0.125344,
          "end_time": "2020-12-21T10:11:27.632194",
          "exception": false,
          "start_time": "2020-12-21T10:11:27.50685",
          "status": "completed"
        },
        "tags": [],
        "id": "fozN1qUnnvu3"
      },
      "source": [
        "# Precision, Recall, F1"
      ]
    },
    {
      "cell_type": "code",
      "execution_count": null,
      "metadata": {
        "execution": {
          "iopub.execute_input": "2021-08-15T10:09:55.572381Z",
          "iopub.status.busy": "2021-08-15T10:09:55.572025Z",
          "iopub.status.idle": "2021-08-15T10:09:56.133801Z",
          "shell.execute_reply": "2021-08-15T10:09:56.132926Z",
          "shell.execute_reply.started": "2021-08-15T10:09:55.572346Z"
        },
        "papermill": {
          "duration": 0.283416,
          "end_time": "2020-12-21T10:11:28.040387",
          "exception": false,
          "start_time": "2020-12-21T10:11:27.756971",
          "status": "completed"
        },
        "tags": [],
        "colab": {
          "base_uri": "https://localhost:8080/"
        },
        "id": "qnhaqy8Vnvu3",
        "outputId": "c3700c92-d505-4dfc-bbc3-9760e2afc52c"
      },
      "outputs": [
        {
          "output_type": "stream",
          "name": "stdout",
          "text": [
            "\n",
            "\n",
            "Precision, Recall, F1\n",
            "\n",
            "\n",
            "              precision    recall  f1-score   support\n",
            "\n",
            "        fake       0.85      0.53      0.65      6414\n",
            "        true       0.68      0.92      0.78      7056\n",
            "\n",
            "    accuracy                           0.73     13470\n",
            "   macro avg       0.77      0.72      0.72     13470\n",
            "weighted avg       0.76      0.73      0.72     13470\n",
            "\n",
            "\n",
            "\n"
          ]
        }
      ],
      "source": [
        "from sklearn.metrics import classification_report, confusion_matrix\n",
        "\n",
        "# Generate the classification report using the true labels (y_test) and the predicted labels (y_pred1).\n",
        "CR = classification_report(y_test, y_pred1)\n",
        "\n",
        "# Print the classification report, which contains precision, recall, F1-score, and other metrics for each class.\n",
        "print('\\n')\n",
        "print(\"Precision, Recall, F1\")\n",
        "print('\\n')\n",
        "print(CR)\n",
        "print('\\n')\n"
      ]
    },
    {
      "cell_type": "markdown",
      "metadata": {
        "papermill": {
          "duration": 0.127256,
          "end_time": "2020-12-21T10:11:28.297659",
          "exception": false,
          "start_time": "2020-12-21T10:11:28.170403",
          "status": "completed"
        },
        "tags": [],
        "id": "kiZv5oetnvu3"
      },
      "source": [
        "# Confusion Matrix"
      ]
    },
    {
      "cell_type": "code",
      "execution_count": null,
      "metadata": {
        "execution": {
          "iopub.execute_input": "2021-08-15T10:09:58.849158Z",
          "iopub.status.busy": "2021-08-15T10:09:58.848827Z",
          "iopub.status.idle": "2021-08-15T10:09:59.129826Z",
          "shell.execute_reply": "2021-08-15T10:09:59.129103Z",
          "shell.execute_reply.started": "2021-08-15T10:09:58.849127Z"
        },
        "papermill": {
          "duration": 0.385083,
          "end_time": "2020-12-21T10:11:28.807579",
          "exception": false,
          "start_time": "2020-12-21T10:11:28.422496",
          "status": "completed"
        },
        "tags": [],
        "colab": {
          "base_uri": "https://localhost:8080/",
          "height": 971
        },
        "id": "MlcBV1vKnvu3",
        "outputId": "01be6648-1026-4305-e836-ab4b8e93a133"
      },
      "outputs": [
        {
          "output_type": "stream",
          "name": "stdout",
          "text": [
            "\n",
            "\n",
            "confusion matrix\n",
            "\n",
            "\n",
            "[[3376 3038]\n",
            " [ 578 6478]]\n",
            "\n",
            "\n"
          ]
        },
        {
          "output_type": "display_data",
          "data": {
            "text/plain": [
              "<Figure size 1000x1000 with 2 Axes>"
            ],
            "image/png": "[encoded data removed]"
          },
          "metadata": {}
        }
      ],
      "source": [
        "from sklearn.metrics import classification_report, confusion_matrix\n",
        "from mlxtend.plotting import plot_confusion_matrix\n",
        "\n",
        "\n",
        "print('\\n')\n",
        "print(\"confusion matrix\")\n",
        "print('\\n')\n",
        "CR=confusion_matrix(y_test, y_pred1)\n",
        "print(CR)\n",
        "print('\\n')\n",
        "\n",
        "fig, ax = plot_confusion_matrix(conf_mat=CR,figsize=(10, 10),\n",
        "                                show_absolute=True,\n",
        "                                show_normed=True,\n",
        "                                colorbar=True)\n",
        "plt.show()"
      ]
    },
    {
      "cell_type": "markdown",
      "metadata": {
        "papermill": {
          "duration": 0.130424,
          "end_time": "2020-12-21T10:11:29.569588",
          "exception": false,
          "start_time": "2020-12-21T10:11:29.439164",
          "status": "completed"
        },
        "tags": [],
        "id": "8eG5ZNo4nvu3"
      },
      "source": [
        "# -------------------------------------------------------------------------------------------------------------"
      ]
    },
    {
      "cell_type": "markdown",
      "metadata": {
        "papermill": {
          "duration": 0.126404,
          "end_time": "2020-12-21T10:11:29.822822",
          "exception": false,
          "start_time": "2020-12-21T10:11:29.696418",
          "status": "completed"
        },
        "tags": [],
        "id": "n0YZ1unfnvu3"
      },
      "source": [
        "# Logistic Regression Algorithm"
      ]
    },
    {
      "cell_type": "code",
      "execution_count": null,
      "metadata": {
        "execution": {
          "iopub.execute_input": "2021-08-15T10:10:02.842690Z",
          "iopub.status.busy": "2021-08-15T10:10:02.842319Z",
          "iopub.status.idle": "2021-08-15T10:10:06.099053Z",
          "shell.execute_reply": "2021-08-15T10:10:06.097996Z",
          "shell.execute_reply.started": "2021-08-15T10:10:02.842660Z"
        },
        "papermill": {
          "duration": 0.43184,
          "end_time": "2020-12-21T10:11:30.38318",
          "exception": false,
          "start_time": "2020-12-21T10:11:29.95134",
          "status": "completed"
        },
        "tags": [],
        "colab": {
          "base_uri": "https://localhost:8080/",
          "height": 74
        },
        "id": "VfCoGhSinvu3",
        "outputId": "c9a282c2-1792-4165-9e22-e6e3441dafde"
      },
      "outputs": [
        {
          "output_type": "execute_result",
          "data": {
            "text/plain": [
              "LogisticRegression(C=2)"
            ],
            "text/html": [
              "<style>#sk-container-id-3 {color: black;background-color: white;}#sk-container-id-3 pre{padding: 0;}#sk-container-id-3 div.sk-toggleable {background-color: white;}#sk-container-id-3 label.sk-toggleable__label {cursor: pointer;display: block;width: 100%;margin-bottom: 0;padding: 0.3em;box-sizing: border-box;text-align: center;}#sk-container-id-3 label.sk-toggleable__label-arrow:before {content: \"▸\";float: left;margin-right: 0.25em;color: #696969;}#sk-container-id-3 label.sk-toggleable__label-arrow:hover:before {color: black;}#sk-container-id-3 div.sk-estimator:hover label.sk-toggleable__label-arrow:before {color: black;}#sk-container-id-3 div.sk-toggleable__content {max-height: 0;max-width: 0;overflow: hidden;text-align: left;background-color: #f0f8ff;}#sk-container-id-3 div.sk-toggleable__content pre {margin: 0.2em;color: black;border-radius: 0.25em;background-color: #f0f8ff;}#sk-container-id-3 input.sk-toggleable__control:checked~div.sk-toggleable__content {max-height: 200px;max-width: 100%;overflow: auto;}#sk-container-id-3 input.sk-toggleable__control:checked~label.sk-toggleable__label-arrow:before {content: \"▾\";}#sk-container-id-3 div.sk-estimator input.sk-toggleable__control:checked~label.sk-toggleable__label {background-color: #d4ebff;}#sk-container-id-3 div.sk-label input.sk-toggleable__control:checked~label.sk-toggleable__label {background-color: #d4ebff;}#sk-container-id-3 input.sk-hidden--visually {border: 0;clip: rect(1px 1px 1px 1px);clip: rect(1px, 1px, 1px, 1px);height: 1px;margin: -1px;overflow: hidden;padding: 0;position: absolute;width: 1px;}#sk-container-id-3 div.sk-estimator {font-family: monospace;background-color: #f0f8ff;border: 1px dotted black;border-radius: 0.25em;box-sizing: border-box;margin-bottom: 0.5em;}#sk-container-id-3 div.sk-estimator:hover {background-color: #d4ebff;}#sk-container-id-3 div.sk-parallel-item::after {content: \"\";width: 100%;border-bottom: 1px solid gray;flex-grow: 1;}#sk-container-id-3 div.sk-label:hover label.sk-toggleable__label {background-color: #d4ebff;}#sk-container-id-3 div.sk-serial::before {content: \"\";position: absolute;border-left: 1px solid gray;box-sizing: border-box;top: 0;bottom: 0;left: 50%;z-index: 0;}#sk-container-id-3 div.sk-serial {display: flex;flex-direction: column;align-items: center;background-color: white;padding-right: 0.2em;padding-left: 0.2em;position: relative;}#sk-container-id-3 div.sk-item {position: relative;z-index: 1;}#sk-container-id-3 div.sk-parallel {display: flex;align-items: stretch;justify-content: center;background-color: white;position: relative;}#sk-container-id-3 div.sk-item::before, #sk-container-id-3 div.sk-parallel-item::before {content: \"\";position: absolute;border-left: 1px solid gray;box-sizing: border-box;top: 0;bottom: 0;left: 50%;z-index: -1;}#sk-container-id-3 div.sk-parallel-item {display: flex;flex-direction: column;z-index: 1;position: relative;background-color: white;}#sk-container-id-3 div.sk-parallel-item:first-child::after {align-self: flex-end;width: 50%;}#sk-container-id-3 div.sk-parallel-item:last-child::after {align-self: flex-start;width: 50%;}#sk-container-id-3 div.sk-parallel-item:only-child::after {width: 0;}#sk-container-id-3 div.sk-dashed-wrapped {border: 1px dashed gray;margin: 0 0.4em 0.5em 0.4em;box-sizing: border-box;padding-bottom: 0.4em;background-color: white;}#sk-container-id-3 div.sk-label label {font-family: monospace;font-weight: bold;display: inline-block;line-height: 1.2em;}#sk-container-id-3 div.sk-label-container {text-align: center;}#sk-container-id-3 div.sk-container {/* jupyter's `normalize.less` sets `[hidden] { display: none; }` but bootstrap.min.css set `[hidden] { display: none !important; }` so we also need the `!important` here to be able to override the default hidden behavior on the sphinx rendered scikit-learn.org. See: https://github.com/scikit-learn/scikit-learn/issues/21755 */display: inline-block !important;position: relative;}#sk-container-id-3 div.sk-text-repr-fallback {display: none;}</style><div id=\"sk-container-id-3\" class=\"sk-top-container\"><div class=\"sk-text-repr-fallback\"><pre>LogisticRegression(C=2)</pre><b>In a Jupyter environment, please rerun this cell to show the HTML representation or trust the notebook. <br />On GitHub, the HTML representation is unable to render, please try loading this page with nbviewer.org.</b></div><div class=\"sk-container\" hidden><div class=\"sk-item\"><div class=\"sk-estimator sk-toggleable\"><input class=\"sk-toggleable__control sk-hidden--visually\" id=\"sk-estimator-id-3\" type=\"checkbox\" checked><label for=\"sk-estimator-id-3\" class=\"sk-toggleable__label sk-toggleable__label-arrow\">LogisticRegression</label><div class=\"sk-toggleable__content\"><pre>LogisticRegression(C=2)</pre></div></div></div></div></div>"
            ]
          },
          "metadata": {},
          "execution_count": 57
        }
      ],
      "source": [
        "from sklearn.linear_model import LogisticRegression\n",
        "from sklearn.naive_bayes import GaussianNB\n",
        "from sklearn.svm import LinearSVC\n",
        "\n",
        "\n",
        "lor=LogisticRegression(C=2, max_iter=100)\n",
        "lor= lor.fit(X_train , y_train)\n",
        "lor"
      ]
    },
    {
      "cell_type": "markdown",
      "metadata": {
        "papermill": {
          "duration": 0.125603,
          "end_time": "2020-12-21T10:11:30.636768",
          "exception": false,
          "start_time": "2020-12-21T10:11:30.511165",
          "status": "completed"
        },
        "tags": [],
        "id": "wAKH_Tkenvu4"
      },
      "source": [
        "# Accuracy"
      ]
    },
    {
      "cell_type": "code",
      "execution_count": null,
      "metadata": {
        "execution": {
          "iopub.execute_input": "2021-08-15T10:10:09.624524Z",
          "iopub.status.busy": "2021-08-15T10:10:09.624172Z",
          "iopub.status.idle": "2021-08-15T10:10:09.746948Z",
          "shell.execute_reply": "2021-08-15T10:10:09.746062Z",
          "shell.execute_reply.started": "2021-08-15T10:10:09.624495Z"
        },
        "papermill": {
          "duration": 0.166651,
          "end_time": "2020-12-21T10:11:30.928373",
          "exception": false,
          "start_time": "2020-12-21T10:11:30.761722",
          "status": "completed"
        },
        "tags": [],
        "colab": {
          "base_uri": "https://localhost:8080/"
        },
        "id": "4gX81ovUnvu4",
        "outputId": "5a65e37f-4803-410e-e78a-c795e0ba6ff1"
      },
      "outputs": [
        {
          "output_type": "stream",
          "name": "stdout",
          "text": [
            "Accuracy score= 0.80\n"
          ]
        }
      ],
      "source": [
        "y_pred1 = lor.predict(X_test)\n",
        "lr=lor.score(X_test, y_test)\n",
        "print('Accuracy score= {:.2f}'.format(lor.score(X_test, y_test)))"
      ]
    },
    {
      "cell_type": "markdown",
      "metadata": {
        "papermill": {
          "duration": 0.126867,
          "end_time": "2020-12-21T10:11:31.184948",
          "exception": false,
          "start_time": "2020-12-21T10:11:31.058081",
          "status": "completed"
        },
        "tags": [],
        "id": "y5swhAb3nvu4"
      },
      "source": [
        "# Precision, Recall, F1"
      ]
    },
    {
      "cell_type": "code",
      "execution_count": null,
      "metadata": {
        "execution": {
          "iopub.execute_input": "2021-08-15T10:10:11.808832Z",
          "iopub.status.busy": "2021-08-15T10:10:11.808502Z",
          "iopub.status.idle": "2021-08-15T10:10:12.535420Z",
          "shell.execute_reply": "2021-08-15T10:10:12.534529Z",
          "shell.execute_reply.started": "2021-08-15T10:10:11.808801Z"
        },
        "papermill": {
          "duration": 0.323933,
          "end_time": "2020-12-21T10:11:31.63464",
          "exception": false,
          "start_time": "2020-12-21T10:11:31.310707",
          "status": "completed"
        },
        "tags": [],
        "colab": {
          "base_uri": "https://localhost:8080/"
        },
        "id": "QId39Ta8nvu4",
        "outputId": "6f08281e-5abe-46f7-b190-abc956e4584c"
      },
      "outputs": [
        {
          "output_type": "stream",
          "name": "stdout",
          "text": [
            "\n",
            "\n",
            "Precision, Recall, F1\n",
            "\n",
            "\n",
            "              precision    recall  f1-score   support\n",
            "\n",
            "        fake       0.85      0.71      0.77      6414\n",
            "        true       0.77      0.88      0.82      7056\n",
            "\n",
            "    accuracy                           0.80     13470\n",
            "   macro avg       0.81      0.80      0.80     13470\n",
            "weighted avg       0.81      0.80      0.80     13470\n",
            "\n",
            "\n",
            "\n"
          ]
        }
      ],
      "source": [
        "from sklearn.metrics import classification_report, confusion_matrix\n",
        "\n",
        "\n",
        "print('\\n')\n",
        "print(\"Precision, Recall, F1\")\n",
        "print('\\n')\n",
        "CR=classification_report(y_test, y_pred1)\n",
        "print(CR)\n",
        "print('\\n')"
      ]
    },
    {
      "cell_type": "markdown",
      "metadata": {
        "papermill": {
          "duration": 0.129056,
          "end_time": "2020-12-21T10:11:31.891997",
          "exception": false,
          "start_time": "2020-12-21T10:11:31.762941",
          "status": "completed"
        },
        "tags": [],
        "id": "z9Jujj0Cnvu4"
      },
      "source": [
        "# Confusion Matrix"
      ]
    },
    {
      "cell_type": "code",
      "execution_count": null,
      "metadata": {
        "execution": {
          "iopub.execute_input": "2021-08-15T10:10:14.919785Z",
          "iopub.status.busy": "2021-08-15T10:10:14.919455Z",
          "iopub.status.idle": "2021-08-15T10:10:15.192215Z",
          "shell.execute_reply": "2021-08-15T10:10:15.191354Z",
          "shell.execute_reply.started": "2021-08-15T10:10:14.919757Z"
        },
        "papermill": {
          "duration": 0.380783,
          "end_time": "2020-12-21T10:11:32.399644",
          "exception": false,
          "start_time": "2020-12-21T10:11:32.018861",
          "status": "completed"
        },
        "tags": [],
        "colab": {
          "base_uri": "https://localhost:8080/",
          "height": 971
        },
        "id": "0JNdsDS-nvu4",
        "outputId": "ea69ff7d-6d05-423e-dbec-80ab45364fd8"
      },
      "outputs": [
        {
          "output_type": "stream",
          "name": "stdout",
          "text": [
            "\n",
            "\n",
            "confusion matrix\n",
            "\n",
            "\n",
            "[[4533 1881]\n",
            " [ 816 6240]]\n",
            "\n",
            "\n"
          ]
        },
        {
          "output_type": "display_data",
          "data": {
            "text/plain": [
              "<Figure size 1000x1000 with 2 Axes>"
            ],
            "image/png": "[encoded data removed]"
          },
          "metadata": {}
        }
      ],
      "source": [
        "from sklearn.metrics import classification_report, confusion_matrix\n",
        "from mlxtend.plotting import plot_confusion_matrix\n",
        "\n",
        "\n",
        "print('\\n')\n",
        "print(\"confusion matrix\")\n",
        "print('\\n')\n",
        "CR=confusion_matrix(y_test, y_pred1)\n",
        "print(CR)\n",
        "print('\\n')\n",
        "\n",
        "fig, ax = plot_confusion_matrix(conf_mat=CR,figsize=(10, 10),\n",
        "                                show_absolute=True,\n",
        "                                show_normed=True,\n",
        "                                colorbar=True)\n",
        "plt.show()"
      ]
    },
    {
      "cell_type": "markdown",
      "metadata": {
        "papermill": {
          "duration": 0.128858,
          "end_time": "2020-12-21T10:11:33.172696",
          "exception": false,
          "start_time": "2020-12-21T10:11:33.043838",
          "status": "completed"
        },
        "tags": [],
        "id": "4KMc7fJVnvu5"
      },
      "source": [
        "# -------------------------------------------------------------------------------------------------------------"
      ]
    },
    {
      "cell_type": "markdown",
      "metadata": {
        "papermill": {
          "duration": 0.12791,
          "end_time": "2020-12-21T10:11:33.42792",
          "exception": false,
          "start_time": "2020-12-21T10:11:33.30001",
          "status": "completed"
        },
        "tags": [],
        "id": "K776cN_unvu5"
      },
      "source": [
        "# Random Forest Algorithm"
      ]
    },
    {
      "cell_type": "code",
      "execution_count": null,
      "metadata": {
        "execution": {
          "iopub.execute_input": "2021-08-15T10:10:19.664562Z",
          "iopub.status.busy": "2021-08-15T10:10:19.664209Z",
          "iopub.status.idle": "2021-08-15T10:10:29.518303Z",
          "shell.execute_reply": "2021-08-15T10:10:29.517215Z",
          "shell.execute_reply.started": "2021-08-15T10:10:19.664524Z"
        },
        "papermill": {
          "duration": 2.220128,
          "end_time": "2020-12-21T10:11:35.775364",
          "exception": false,
          "start_time": "2020-12-21T10:11:33.555236",
          "status": "completed"
        },
        "tags": [],
        "colab": {
          "base_uri": "https://localhost:8080/",
          "height": 92
        },
        "id": "s8P1An6tnvu5",
        "outputId": "e1b79c3a-5891-4714-c73a-754a436fb8f5"
      },
      "outputs": [
        {
          "output_type": "execute_result",
          "data": {
            "text/plain": [
              "RandomForestClassifier(min_samples_leaf=20, min_samples_split=20,\n",
              "                       random_state=100)"
            ],
            "text/html": [
              "<style>#sk-container-id-4 {color: black;background-color: white;}#sk-container-id-4 pre{padding: 0;}#sk-container-id-4 div.sk-toggleable {background-color: white;}#sk-container-id-4 label.sk-toggleable__label {cursor: pointer;display: block;width: 100%;margin-bottom: 0;padding: 0.3em;box-sizing: border-box;text-align: center;}#sk-container-id-4 label.sk-toggleable__label-arrow:before {content: \"▸\";float: left;margin-right: 0.25em;color: #696969;}#sk-container-id-4 label.sk-toggleable__label-arrow:hover:before {color: black;}#sk-container-id-4 div.sk-estimator:hover label.sk-toggleable__label-arrow:before {color: black;}#sk-container-id-4 div.sk-toggleable__content {max-height: 0;max-width: 0;overflow: hidden;text-align: left;background-color: #f0f8ff;}#sk-container-id-4 div.sk-toggleable__content pre {margin: 0.2em;color: black;border-radius: 0.25em;background-color: #f0f8ff;}#sk-container-id-4 input.sk-toggleable__control:checked~div.sk-toggleable__content {max-height: 200px;max-width: 100%;overflow: auto;}#sk-container-id-4 input.sk-toggleable__control:checked~label.sk-toggleable__label-arrow:before {content: \"▾\";}#sk-container-id-4 div.sk-estimator input.sk-toggleable__control:checked~label.sk-toggleable__label {background-color: #d4ebff;}#sk-container-id-4 div.sk-label input.sk-toggleable__control:checked~label.sk-toggleable__label {background-color: #d4ebff;}#sk-container-id-4 input.sk-hidden--visually {border: 0;clip: rect(1px 1px 1px 1px);clip: rect(1px, 1px, 1px, 1px);height: 1px;margin: -1px;overflow: hidden;padding: 0;position: absolute;width: 1px;}#sk-container-id-4 div.sk-estimator {font-family: monospace;background-color: #f0f8ff;border: 1px dotted black;border-radius: 0.25em;box-sizing: border-box;margin-bottom: 0.5em;}#sk-container-id-4 div.sk-estimator:hover {background-color: #d4ebff;}#sk-container-id-4 div.sk-parallel-item::after {content: \"\";width: 100%;border-bottom: 1px solid gray;flex-grow: 1;}#sk-container-id-4 div.sk-label:hover label.sk-toggleable__label {background-color: #d4ebff;}#sk-container-id-4 div.sk-serial::before {content: \"\";position: absolute;border-left: 1px solid gray;box-sizing: border-box;top: 0;bottom: 0;left: 50%;z-index: 0;}#sk-container-id-4 div.sk-serial {display: flex;flex-direction: column;align-items: center;background-color: white;padding-right: 0.2em;padding-left: 0.2em;position: relative;}#sk-container-id-4 div.sk-item {position: relative;z-index: 1;}#sk-container-id-4 div.sk-parallel {display: flex;align-items: stretch;justify-content: center;background-color: white;position: relative;}#sk-container-id-4 div.sk-item::before, #sk-container-id-4 div.sk-parallel-item::before {content: \"\";position: absolute;border-left: 1px solid gray;box-sizing: border-box;top: 0;bottom: 0;left: 50%;z-index: -1;}#sk-container-id-4 div.sk-parallel-item {display: flex;flex-direction: column;z-index: 1;position: relative;background-color: white;}#sk-container-id-4 div.sk-parallel-item:first-child::after {align-self: flex-end;width: 50%;}#sk-container-id-4 div.sk-parallel-item:last-child::after {align-self: flex-start;width: 50%;}#sk-container-id-4 div.sk-parallel-item:only-child::after {width: 0;}#sk-container-id-4 div.sk-dashed-wrapped {border: 1px dashed gray;margin: 0 0.4em 0.5em 0.4em;box-sizing: border-box;padding-bottom: 0.4em;background-color: white;}#sk-container-id-4 div.sk-label label {font-family: monospace;font-weight: bold;display: inline-block;line-height: 1.2em;}#sk-container-id-4 div.sk-label-container {text-align: center;}#sk-container-id-4 div.sk-container {/* jupyter's `normalize.less` sets `[hidden] { display: none; }` but bootstrap.min.css set `[hidden] { display: none !important; }` so we also need the `!important` here to be able to override the default hidden behavior on the sphinx rendered scikit-learn.org. See: https://github.com/scikit-learn/scikit-learn/issues/21755 */display: inline-block !important;position: relative;}#sk-container-id-4 div.sk-text-repr-fallback {display: none;}</style><div id=\"sk-container-id-4\" class=\"sk-top-container\"><div class=\"sk-text-repr-fallback\"><pre>RandomForestClassifier(min_samples_leaf=20, min_samples_split=20,\n",
              "                       random_state=100)</pre><b>In a Jupyter environment, please rerun this cell to show the HTML representation or trust the notebook. <br />On GitHub, the HTML representation is unable to render, please try loading this page with nbviewer.org.</b></div><div class=\"sk-container\" hidden><div class=\"sk-item\"><div class=\"sk-estimator sk-toggleable\"><input class=\"sk-toggleable__control sk-hidden--visually\" id=\"sk-estimator-id-4\" type=\"checkbox\" checked><label for=\"sk-estimator-id-4\" class=\"sk-toggleable__label sk-toggleable__label-arrow\">RandomForestClassifier</label><div class=\"sk-toggleable__content\"><pre>RandomForestClassifier(min_samples_leaf=20, min_samples_split=20,\n",
              "                       random_state=100)</pre></div></div></div></div></div>"
            ]
          },
          "metadata": {},
          "execution_count": 61
        }
      ],
      "source": [
        "from sklearn.ensemble import RandomForestClassifier\n",
        "from sklearn.linear_model import LogisticRegression\n",
        "from sklearn.naive_bayes import GaussianNB\n",
        "from sklearn.svm import LinearSVC\n",
        "\n",
        "raf=RandomForestClassifier(min_samples_leaf=20, min_samples_split=20,random_state=100)\n",
        "raf= raf.fit(X_train , y_train)\n",
        "raf"
      ]
    },
    {
      "cell_type": "markdown",
      "metadata": {
        "papermill": {
          "duration": 0.129194,
          "end_time": "2020-12-21T10:11:36.032682",
          "exception": false,
          "start_time": "2020-12-21T10:11:35.903488",
          "status": "completed"
        },
        "tags": [],
        "id": "ktZ989xmnvu5"
      },
      "source": [
        "# Accuracy"
      ]
    },
    {
      "cell_type": "code",
      "execution_count": null,
      "metadata": {
        "execution": {
          "iopub.execute_input": "2021-08-15T10:10:32.565295Z",
          "iopub.status.busy": "2021-08-15T10:10:32.564967Z",
          "iopub.status.idle": "2021-08-15T10:10:33.376798Z",
          "shell.execute_reply": "2021-08-15T10:10:33.375912Z",
          "shell.execute_reply.started": "2021-08-15T10:10:32.565264Z"
        },
        "papermill": {
          "duration": 0.340296,
          "end_time": "2020-12-21T10:11:36.504892",
          "exception": false,
          "start_time": "2020-12-21T10:11:36.164596",
          "status": "completed"
        },
        "tags": [],
        "colab": {
          "base_uri": "https://localhost:8080/"
        },
        "id": "g2WInVm8nvu5",
        "outputId": "816bf00a-3103-4409-8569-4ba1a7d02ffb"
      },
      "outputs": [
        {
          "output_type": "stream",
          "name": "stdout",
          "text": [
            "Accuracy score= 0.79\n"
          ]
        }
      ],
      "source": [
        "y_pred1 = raf.predict(X_test)\n",
        "rf=raf.score(X_test, y_test)\n",
        "print('Accuracy score= {:.2f}'.format(raf.score(X_test, y_test)))"
      ]
    },
    {
      "cell_type": "markdown",
      "metadata": {
        "papermill": {
          "duration": 0.12951,
          "end_time": "2020-12-21T10:11:36.764079",
          "exception": false,
          "start_time": "2020-12-21T10:11:36.634569",
          "status": "completed"
        },
        "tags": [],
        "id": "-UJw27g3nvu5"
      },
      "source": [
        "# Precision, Recall, F1"
      ]
    },
    {
      "cell_type": "code",
      "execution_count": null,
      "metadata": {
        "execution": {
          "iopub.execute_input": "2021-08-15T10:10:35.497679Z",
          "iopub.status.busy": "2021-08-15T10:10:35.497315Z",
          "iopub.status.idle": "2021-08-15T10:10:36.232614Z",
          "shell.execute_reply": "2021-08-15T10:10:36.231909Z",
          "shell.execute_reply.started": "2021-08-15T10:10:35.497647Z"
        },
        "papermill": {
          "duration": 0.328352,
          "end_time": "2020-12-21T10:11:37.221004",
          "exception": false,
          "start_time": "2020-12-21T10:11:36.892652",
          "status": "completed"
        },
        "tags": [],
        "colab": {
          "base_uri": "https://localhost:8080/"
        },
        "id": "hgCVun-Rnvu5",
        "outputId": "0066b498-2e50-460e-d4df-49dd2f2fa2a3"
      },
      "outputs": [
        {
          "output_type": "stream",
          "name": "stdout",
          "text": [
            "\n",
            "\n",
            "Precision, Recall, F1\n",
            "\n",
            "\n",
            "              precision    recall  f1-score   support\n",
            "\n",
            "        fake       0.84      0.69      0.76      6414\n",
            "        true       0.76      0.88      0.82      7056\n",
            "\n",
            "    accuracy                           0.79     13470\n",
            "   macro avg       0.80      0.79      0.79     13470\n",
            "weighted avg       0.80      0.79      0.79     13470\n",
            "\n",
            "\n",
            "\n"
          ]
        }
      ],
      "source": [
        "from sklearn.metrics import classification_report, confusion_matrix\n",
        "\n",
        "\n",
        "print('\\n')\n",
        "print(\"Precision, Recall, F1\")\n",
        "print('\\n')\n",
        "CR=classification_report(y_test, y_pred1)\n",
        "print(CR)\n",
        "print('\\n')"
      ]
    },
    {
      "cell_type": "markdown",
      "metadata": {
        "papermill": {
          "duration": 0.129009,
          "end_time": "2020-12-21T10:11:37.478556",
          "exception": false,
          "start_time": "2020-12-21T10:11:37.349547",
          "status": "completed"
        },
        "tags": [],
        "id": "FYd1lzEpnvu5"
      },
      "source": [
        "# Confusion Matrix"
      ]
    },
    {
      "cell_type": "code",
      "execution_count": null,
      "metadata": {
        "execution": {
          "iopub.execute_input": "2021-08-15T10:10:38.856725Z",
          "iopub.status.busy": "2021-08-15T10:10:38.856390Z",
          "iopub.status.idle": "2021-08-15T10:10:39.134109Z",
          "shell.execute_reply": "2021-08-15T10:10:39.133223Z",
          "shell.execute_reply.started": "2021-08-15T10:10:38.856695Z"
        },
        "papermill": {
          "duration": 0.410016,
          "end_time": "2020-12-21T10:11:38.019431",
          "exception": false,
          "start_time": "2020-12-21T10:11:37.609415",
          "status": "completed"
        },
        "tags": [],
        "colab": {
          "base_uri": "https://localhost:8080/",
          "height": 971
        },
        "id": "lAr9SfH8nvu6",
        "outputId": "bb7d2355-4279-4992-9647-27e45d627e9e"
      },
      "outputs": [
        {
          "output_type": "stream",
          "name": "stdout",
          "text": [
            "\n",
            "\n",
            "confusion matrix\n",
            "\n",
            "\n",
            "[[4440 1974]\n",
            " [ 828 6228]]\n",
            "\n",
            "\n"
          ]
        },
        {
          "output_type": "display_data",
          "data": {
            "text/plain": [
              "<Figure size 1000x1000 with 2 Axes>"
            ],
            "image/png": "[encoded data removed]"
          },
          "metadata": {}
        }
      ],
      "source": [
        "from sklearn.metrics import classification_report, confusion_matrix\n",
        "from mlxtend.plotting import plot_confusion_matrix\n",
        "\n",
        "\n",
        "print('\\n')\n",
        "print(\"confusion matrix\")\n",
        "print('\\n')\n",
        "CR=confusion_matrix(y_test, y_pred1)\n",
        "print(CR)\n",
        "print('\\n')\n",
        "\n",
        "fig, ax = plot_confusion_matrix(conf_mat=CR,figsize=(10, 10),\n",
        "                                show_absolute=True,\n",
        "                                show_normed=True,\n",
        "                                colorbar=True)\n",
        "plt.show()"
      ]
    },
    {
      "cell_type": "markdown",
      "metadata": {
        "papermill": {
          "duration": 0.130898,
          "end_time": "2020-12-21T10:11:38.856475",
          "exception": false,
          "start_time": "2020-12-21T10:11:38.725577",
          "status": "completed"
        },
        "tags": [],
        "id": "3RM80M8Invu6"
      },
      "source": [
        "# -------------------------------------------------------------------------------------------------------------"
      ]
    },
    {
      "cell_type": "markdown",
      "metadata": {
        "_cell_guid": "47f0fdc5-2871-494f-9158-1a88c449a7d6",
        "_uuid": "609d7ed4c45f18359ad51745f03b2a686175b7ad",
        "id": "fT9MAv0Dww7f",
        "papermill": {
          "duration": 0.132694,
          "end_time": "2020-12-21T10:11:39.120519",
          "exception": false,
          "start_time": "2020-12-21T10:11:38.987825",
          "status": "completed"
        },
        "tags": []
      },
      "source": [
        "# Ensemble Technique to combine all algorithms and making one"
      ]
    },
    {
      "cell_type": "code",
      "execution_count": null,
      "metadata": {
        "_cell_guid": "532dcc6f-33a1-4726-a07a-e4bb2ef0b396",
        "_kg_hide-input": true,
        "_uuid": "40c82b43dd34bb9b7685c76bea0f5ca7e761c1d4",
        "execution": {
          "iopub.execute_input": "2021-08-15T10:10:43.018415Z",
          "iopub.status.busy": "2021-08-15T10:10:43.018002Z",
          "iopub.status.idle": "2021-08-15T10:10:43.026320Z",
          "shell.execute_reply": "2021-08-15T10:10:43.025356Z",
          "shell.execute_reply.started": "2021-08-15T10:10:43.018380Z"
        },
        "id": "0lcJ9UZSww7f",
        "papermill": {
          "duration": 0.141981,
          "end_time": "2020-12-21T10:11:39.405744",
          "exception": false,
          "start_time": "2020-12-21T10:11:39.263763",
          "status": "completed"
        },
        "tags": []
      },
      "outputs": [],
      "source": [
        "svc = LinearSVC(C=1, max_iter=500)\n",
        "nab  = GaussianNB(var_smoothing=1e-08)\n",
        "log  = LogisticRegression(C=2, max_iter=100)\n",
        "raf  = RandomForestClassifier(min_samples_leaf=10, min_samples_split=20,random_state=100)"
      ]
    },
    {
      "cell_type": "code",
      "execution_count": null,
      "metadata": {
        "execution": {
          "iopub.execute_input": "2021-08-15T10:10:46.237356Z",
          "iopub.status.busy": "2021-08-15T10:10:46.236969Z",
          "iopub.status.idle": "2021-08-15T10:11:00.445678Z",
          "shell.execute_reply": "2021-08-15T10:11:00.444383Z",
          "shell.execute_reply.started": "2021-08-15T10:10:46.237305Z"
        },
        "papermill": {
          "duration": 3.47103,
          "end_time": "2020-12-21T10:11:43.007085",
          "exception": false,
          "start_time": "2020-12-21T10:11:39.536055",
          "status": "completed"
        },
        "tags": [],
        "colab": {
          "base_uri": "https://localhost:8080/",
          "height": 110
        },
        "id": "6lyNp_8vnvu6",
        "outputId": "19c7ee61-d82e-494e-a231-af555c1df6b5"
      },
      "outputs": [
        {
          "output_type": "execute_result",
          "data": {
            "text/plain": [
              "VotingClassifier(estimators=[('SVM', LinearSVC(C=1, max_iter=500)),\n",
              "                             ('NB', GaussianNB(var_smoothing=1e-08)),\n",
              "                             ('Log', LogisticRegression(C=2)),\n",
              "                             ('raf',\n",
              "                              RandomForestClassifier(min_samples_leaf=10,\n",
              "                                                     min_samples_split=20,\n",
              "                                                     random_state=100))])"
            ],
            "text/html": [
              "<style>#sk-container-id-5 {color: black;background-color: white;}#sk-container-id-5 pre{padding: 0;}#sk-container-id-5 div.sk-toggleable {background-color: white;}#sk-container-id-5 label.sk-toggleable__label {cursor: pointer;display: block;width: 100%;margin-bottom: 0;padding: 0.3em;box-sizing: border-box;text-align: center;}#sk-container-id-5 label.sk-toggleable__label-arrow:before {content: \"▸\";float: left;margin-right: 0.25em;color: #696969;}#sk-container-id-5 label.sk-toggleable__label-arrow:hover:before {color: black;}#sk-container-id-5 div.sk-estimator:hover label.sk-toggleable__label-arrow:before {color: black;}#sk-container-id-5 div.sk-toggleable__content {max-height: 0;max-width: 0;overflow: hidden;text-align: left;background-color: #f0f8ff;}#sk-container-id-5 div.sk-toggleable__content pre {margin: 0.2em;color: black;border-radius: 0.25em;background-color: #f0f8ff;}#sk-container-id-5 input.sk-toggleable__control:checked~div.sk-toggleable__content {max-height: 200px;max-width: 100%;overflow: auto;}#sk-container-id-5 input.sk-toggleable__control:checked~label.sk-toggleable__label-arrow:before {content: \"▾\";}#sk-container-id-5 div.sk-estimator input.sk-toggleable__control:checked~label.sk-toggleable__label {background-color: #d4ebff;}#sk-container-id-5 div.sk-label input.sk-toggleable__control:checked~label.sk-toggleable__label {background-color: #d4ebff;}#sk-container-id-5 input.sk-hidden--visually {border: 0;clip: rect(1px 1px 1px 1px);clip: rect(1px, 1px, 1px, 1px);height: 1px;margin: -1px;overflow: hidden;padding: 0;position: absolute;width: 1px;}#sk-container-id-5 div.sk-estimator {font-family: monospace;background-color: #f0f8ff;border: 1px dotted black;border-radius: 0.25em;box-sizing: border-box;margin-bottom: 0.5em;}#sk-container-id-5 div.sk-estimator:hover {background-color: #d4ebff;}#sk-container-id-5 div.sk-parallel-item::after {content: \"\";width: 100%;border-bottom: 1px solid gray;flex-grow: 1;}#sk-container-id-5 div.sk-label:hover label.sk-toggleable__label {background-color: #d4ebff;}#sk-container-id-5 div.sk-serial::before {content: \"\";position: absolute;border-left: 1px solid gray;box-sizing: border-box;top: 0;bottom: 0;left: 50%;z-index: 0;}#sk-container-id-5 div.sk-serial {display: flex;flex-direction: column;align-items: center;background-color: white;padding-right: 0.2em;padding-left: 0.2em;position: relative;}#sk-container-id-5 div.sk-item {position: relative;z-index: 1;}#sk-container-id-5 div.sk-parallel {display: flex;align-items: stretch;justify-content: center;background-color: white;position: relative;}#sk-container-id-5 div.sk-item::before, #sk-container-id-5 div.sk-parallel-item::before {content: \"\";position: absolute;border-left: 1px solid gray;box-sizing: border-box;top: 0;bottom: 0;left: 50%;z-index: -1;}#sk-container-id-5 div.sk-parallel-item {display: flex;flex-direction: column;z-index: 1;position: relative;background-color: white;}#sk-container-id-5 div.sk-parallel-item:first-child::after {align-self: flex-end;width: 50%;}#sk-container-id-5 div.sk-parallel-item:last-child::after {align-self: flex-start;width: 50%;}#sk-container-id-5 div.sk-parallel-item:only-child::after {width: 0;}#sk-container-id-5 div.sk-dashed-wrapped {border: 1px dashed gray;margin: 0 0.4em 0.5em 0.4em;box-sizing: border-box;padding-bottom: 0.4em;background-color: white;}#sk-container-id-5 div.sk-label label {font-family: monospace;font-weight: bold;display: inline-block;line-height: 1.2em;}#sk-container-id-5 div.sk-label-container {text-align: center;}#sk-container-id-5 div.sk-container {/* jupyter's `normalize.less` sets `[hidden] { display: none; }` but bootstrap.min.css set `[hidden] { display: none !important; }` so we also need the `!important` here to be able to override the default hidden behavior on the sphinx rendered scikit-learn.org. See: https://github.com/scikit-learn/scikit-learn/issues/21755 */display: inline-block !important;position: relative;}#sk-container-id-5 div.sk-text-repr-fallback {display: none;}</style><div id=\"sk-container-id-5\" class=\"sk-top-container\"><div class=\"sk-text-repr-fallback\"><pre>VotingClassifier(estimators=[(&#x27;SVM&#x27;, LinearSVC(C=1, max_iter=500)),\n",
              "                             (&#x27;NB&#x27;, GaussianNB(var_smoothing=1e-08)),\n",
              "                             (&#x27;Log&#x27;, LogisticRegression(C=2)),\n",
              "                             (&#x27;raf&#x27;,\n",
              "                              RandomForestClassifier(min_samples_leaf=10,\n",
              "                                                     min_samples_split=20,\n",
              "                                                     random_state=100))])</pre><b>In a Jupyter environment, please rerun this cell to show the HTML representation or trust the notebook. <br />On GitHub, the HTML representation is unable to render, please try loading this page with nbviewer.org.</b></div><div class=\"sk-container\" hidden><div class=\"sk-item sk-dashed-wrapped\"><div class=\"sk-label-container\"><div class=\"sk-label sk-toggleable\"><input class=\"sk-toggleable__control sk-hidden--visually\" id=\"sk-estimator-id-5\" type=\"checkbox\" ><label for=\"sk-estimator-id-5\" class=\"sk-toggleable__label sk-toggleable__label-arrow\">VotingClassifier</label><div class=\"sk-toggleable__content\"><pre>VotingClassifier(estimators=[(&#x27;SVM&#x27;, LinearSVC(C=1, max_iter=500)),\n",
              "                             (&#x27;NB&#x27;, GaussianNB(var_smoothing=1e-08)),\n",
              "                             (&#x27;Log&#x27;, LogisticRegression(C=2)),\n",
              "                             (&#x27;raf&#x27;,\n",
              "                              RandomForestClassifier(min_samples_leaf=10,\n",
              "                                                     min_samples_split=20,\n",
              "                                                     random_state=100))])</pre></div></div></div><div class=\"sk-parallel\"><div class=\"sk-parallel-item\"><div class=\"sk-item\"><div class=\"sk-label-container\"><div class=\"sk-label sk-toggleable\"><label>SVM</label></div></div><div class=\"sk-serial\"><div class=\"sk-item\"><div class=\"sk-estimator sk-toggleable\"><input class=\"sk-toggleable__control sk-hidden--visually\" id=\"sk-estimator-id-6\" type=\"checkbox\" ><label for=\"sk-estimator-id-6\" class=\"sk-toggleable__label sk-toggleable__label-arrow\">LinearSVC</label><div class=\"sk-toggleable__content\"><pre>LinearSVC(C=1, max_iter=500)</pre></div></div></div></div></div></div><div class=\"sk-parallel-item\"><div class=\"sk-item\"><div class=\"sk-label-container\"><div class=\"sk-label sk-toggleable\"><label>NB</label></div></div><div class=\"sk-serial\"><div class=\"sk-item\"><div class=\"sk-estimator sk-toggleable\"><input class=\"sk-toggleable__control sk-hidden--visually\" id=\"sk-estimator-id-7\" type=\"checkbox\" ><label for=\"sk-estimator-id-7\" class=\"sk-toggleable__label sk-toggleable__label-arrow\">GaussianNB</label><div class=\"sk-toggleable__content\"><pre>GaussianNB(var_smoothing=1e-08)</pre></div></div></div></div></div></div><div class=\"sk-parallel-item\"><div class=\"sk-item\"><div class=\"sk-label-container\"><div class=\"sk-label sk-toggleable\"><label>Log</label></div></div><div class=\"sk-serial\"><div class=\"sk-item\"><div class=\"sk-estimator sk-toggleable\"><input class=\"sk-toggleable__control sk-hidden--visually\" id=\"sk-estimator-id-8\" type=\"checkbox\" ><label for=\"sk-estimator-id-8\" class=\"sk-toggleable__label sk-toggleable__label-arrow\">LogisticRegression</label><div class=\"sk-toggleable__content\"><pre>LogisticRegression(C=2)</pre></div></div></div></div></div></div><div class=\"sk-parallel-item\"><div class=\"sk-item\"><div class=\"sk-label-container\"><div class=\"sk-label sk-toggleable\"><label>raf</label></div></div><div class=\"sk-serial\"><div class=\"sk-item\"><div class=\"sk-estimator sk-toggleable\"><input class=\"sk-toggleable__control sk-hidden--visually\" id=\"sk-estimator-id-9\" type=\"checkbox\" ><label for=\"sk-estimator-id-9\" class=\"sk-toggleable__label sk-toggleable__label-arrow\">RandomForestClassifier</label><div class=\"sk-toggleable__content\"><pre>RandomForestClassifier(min_samples_leaf=10, min_samples_split=20,\n",
              "                       random_state=100)</pre></div></div></div></div></div></div></div></div></div></div>"
            ]
          },
          "metadata": {},
          "execution_count": 66
        }
      ],
      "source": [
        "from sklearn.ensemble import VotingClassifier\n",
        "Ens = VotingClassifier( estimators= [('SVM',svc),('NB',nab),('Log',log),('raf',raf)], voting = 'hard')\n",
        "Ens= Ens.fit(X_train , y_train)\n",
        "Ens"
      ]
    },
    {
      "cell_type": "markdown",
      "metadata": {
        "papermill": {
          "duration": 0.128452,
          "end_time": "2020-12-21T10:11:43.26488",
          "exception": false,
          "start_time": "2020-12-21T10:11:43.136428",
          "status": "completed"
        },
        "tags": [],
        "id": "asi2JxwWnvu6"
      },
      "source": [
        "# Accuracy"
      ]
    },
    {
      "cell_type": "code",
      "execution_count": null,
      "metadata": {
        "execution": {
          "iopub.execute_input": "2021-08-15T10:11:00.448183Z",
          "iopub.status.busy": "2021-08-15T10:11:00.447635Z",
          "iopub.status.idle": "2021-08-15T10:11:02.102062Z",
          "shell.execute_reply": "2021-08-15T10:11:02.101133Z",
          "shell.execute_reply.started": "2021-08-15T10:11:00.448145Z"
        },
        "papermill": {
          "duration": 0.559951,
          "end_time": "2020-12-21T10:11:43.954599",
          "exception": false,
          "start_time": "2020-12-21T10:11:43.394648",
          "status": "completed"
        },
        "tags": [],
        "colab": {
          "base_uri": "https://localhost:8080/"
        },
        "id": "9FC_uNlJnvu6",
        "outputId": "eb883618-9ea6-482c-977c-d866a3444ed8"
      },
      "outputs": [
        {
          "output_type": "stream",
          "name": "stdout",
          "text": [
            "Accuracy score= 0.80\n"
          ]
        }
      ],
      "source": [
        "y_pred1 = Ens.predict(X_test)\n",
        "en=Ens.score(X_test, y_test)\n",
        "print('Accuracy score= {:.2f}'.format(Ens.score(X_test, y_test)))"
      ]
    },
    {
      "cell_type": "markdown",
      "metadata": {
        "papermill": {
          "duration": 0.130861,
          "end_time": "2020-12-21T10:11:44.216721",
          "exception": false,
          "start_time": "2020-12-21T10:11:44.08586",
          "status": "completed"
        },
        "tags": [],
        "id": "lrBkd6EFnvu7"
      },
      "source": [
        "# Precision, Recall, F1"
      ]
    },
    {
      "cell_type": "code",
      "execution_count": null,
      "metadata": {
        "execution": {
          "iopub.execute_input": "2021-08-15T10:11:04.380242Z",
          "iopub.status.busy": "2021-08-15T10:11:04.379910Z",
          "iopub.status.idle": "2021-08-15T10:11:05.106383Z",
          "shell.execute_reply": "2021-08-15T10:11:05.105446Z",
          "shell.execute_reply.started": "2021-08-15T10:11:04.380211Z"
        },
        "papermill": {
          "duration": 0.32651,
          "end_time": "2020-12-21T10:11:44.673058",
          "exception": false,
          "start_time": "2020-12-21T10:11:44.346548",
          "status": "completed"
        },
        "tags": [],
        "colab": {
          "base_uri": "https://localhost:8080/"
        },
        "id": "30nXqhOfnvu7",
        "outputId": "69a8a130-1d74-4b9a-f5d7-bdc3572a017b"
      },
      "outputs": [
        {
          "output_type": "stream",
          "name": "stdout",
          "text": [
            "\n",
            "\n",
            "Precision, Recall, F1\n",
            "\n",
            "\n",
            "              precision    recall  f1-score   support\n",
            "\n",
            "        fake       0.84      0.71      0.77      6414\n",
            "        true       0.77      0.87      0.82      7056\n",
            "\n",
            "    accuracy                           0.80     13470\n",
            "   macro avg       0.80      0.79      0.79     13470\n",
            "weighted avg       0.80      0.80      0.80     13470\n",
            "\n",
            "\n",
            "\n"
          ]
        }
      ],
      "source": [
        "from sklearn.metrics import classification_report, confusion_matrix\n",
        "\n",
        "\n",
        "print('\\n')\n",
        "print(\"Precision, Recall, F1\")\n",
        "print('\\n')\n",
        "CR=classification_report(y_test, y_pred1)\n",
        "print(CR)\n",
        "print('\\n')"
      ]
    },
    {
      "cell_type": "markdown",
      "metadata": {
        "papermill": {
          "duration": 0.170212,
          "end_time": "2020-12-21T10:11:44.975106",
          "exception": false,
          "start_time": "2020-12-21T10:11:44.804894",
          "status": "completed"
        },
        "tags": [],
        "id": "25_pg-uenvu7"
      },
      "source": [
        "# Confusion Matrix"
      ]
    },
    {
      "cell_type": "code",
      "execution_count": null,
      "metadata": {
        "execution": {
          "iopub.execute_input": "2021-08-15T10:11:07.824645Z",
          "iopub.status.busy": "2021-08-15T10:11:07.824093Z",
          "iopub.status.idle": "2021-08-15T10:11:08.121079Z",
          "shell.execute_reply": "2021-08-15T10:11:08.120371Z",
          "shell.execute_reply.started": "2021-08-15T10:11:07.824592Z"
        },
        "papermill": {
          "duration": 0.390591,
          "end_time": "2020-12-21T10:11:45.495719",
          "exception": false,
          "start_time": "2020-12-21T10:11:45.105128",
          "status": "completed"
        },
        "tags": [],
        "colab": {
          "base_uri": "https://localhost:8080/",
          "height": 971
        },
        "id": "6MtAUdLQnvu7",
        "outputId": "1caa7a2c-4e1a-4277-e584-bdc37dc93146"
      },
      "outputs": [
        {
          "output_type": "stream",
          "name": "stdout",
          "text": [
            "\n",
            "\n",
            "confusion matrix\n",
            "\n",
            "\n",
            "[[4582 1832]\n",
            " [ 900 6156]]\n",
            "\n",
            "\n"
          ]
        },
        {
          "output_type": "display_data",
          "data": {
            "text/plain": [
              "<Figure size 1000x1000 with 2 Axes>"
            ],
            "image/png": "[encoded data removed]"
          },
          "metadata": {}
        }
      ],
      "source": [
        "from sklearn.metrics import classification_report, confusion_matrix\n",
        "from mlxtend.plotting import plot_confusion_matrix\n",
        "\n",
        "\n",
        "print('\\n')\n",
        "print(\"confusion matrix\")\n",
        "print('\\n')\n",
        "CR=confusion_matrix(y_test, y_pred1)\n",
        "print(CR)\n",
        "print('\\n')\n",
        "\n",
        "fig, ax = plot_confusion_matrix(conf_mat=CR,figsize=(10, 10),\n",
        "                                show_absolute=True,\n",
        "                                show_normed=True,\n",
        "                                colorbar=True)\n",
        "plt.show()"
      ]
    },
    {
      "cell_type": "markdown",
      "metadata": {
        "papermill": {
          "duration": 0.131038,
          "end_time": "2020-12-21T10:11:46.288519",
          "exception": false,
          "start_time": "2020-12-21T10:11:46.157481",
          "status": "completed"
        },
        "tags": [],
        "id": "7fpCGOCenvu7"
      },
      "source": [
        "# -------------------------------------------------------------------------------------------------------------"
      ]
    },
    {
      "cell_type": "markdown",
      "metadata": {
        "papermill": {
          "duration": 0.130116,
          "end_time": "2020-12-21T10:11:46.548675",
          "exception": false,
          "start_time": "2020-12-21T10:11:46.418559",
          "status": "completed"
        },
        "tags": [],
        "id": "FLiKgSx5nvu7"
      },
      "source": [
        "# Comparison of all algorithms Results"
      ]
    },
    {
      "cell_type": "code",
      "execution_count": null,
      "metadata": {
        "execution": {
          "iopub.execute_input": "2021-08-15T10:11:20.778274Z",
          "iopub.status.busy": "2021-08-15T10:11:20.777934Z",
          "iopub.status.idle": "2021-08-15T10:11:20.790300Z",
          "shell.execute_reply": "2021-08-15T10:11:20.789226Z",
          "shell.execute_reply.started": "2021-08-15T10:11:20.778242Z"
        },
        "papermill": {
          "duration": 0.145785,
          "end_time": "2020-12-21T10:11:46.825091",
          "exception": false,
          "start_time": "2020-12-21T10:11:46.679306",
          "status": "completed"
        },
        "scrolled": true,
        "tags": [],
        "colab": {
          "base_uri": "https://localhost:8080/"
        },
        "id": "TBNYf75ynvu7",
        "outputId": "d7a18cde-149b-4816-81c6-f469abc8723b"
      },
      "outputs": [
        {
          "output_type": "stream",
          "name": "stdout",
          "text": [
            "+------------------------------+----------+\n",
            "|            Model             | Accuracy |\n",
            "+------------------------------+----------+\n",
            "|        SVM Algorithm         |   0.8    |\n",
            "|    Naive Bayes Algorithm     |   0.73   |\n",
            "| LogisticRegression Algorithm |   0.8    |\n",
            "|   Random Forest Algorithm    |   0.79   |\n",
            "|      Ensemble Modelling      |   0.8    |\n",
            "+------------------------------+----------+\n",
            "\n",
            "\n"
          ]
        }
      ],
      "source": [
        "from prettytable import PrettyTable\n",
        "\n",
        "# Create an empty table using PrettyTable.\n",
        "x = PrettyTable()\n",
        "\n",
        "# Add a column for Model names and a column for Accuracy values.\n",
        "x.field_names = [\"Model\", \"Accuracy\"]\n",
        "\n",
        "# Add rows to the table, each containing the Model name and its corresponding Accuracy score.\n",
        "x.add_row([\"SVM Algorithm\", round(dm, 2)])\n",
        "x.add_row([\"Naive Bayes Algorithm\", round(nb, 2)])\n",
        "x.add_row([\"LogisticRegression Algorithm\", round(lr, 2)])\n",
        "x.add_row([\"Random Forest Algorithm\", round(rf, 2)])\n",
        "x.add_row([\"Ensemble Modelling\", round(en, 2)])\n",
        "\n",
        "# Print the table.\n",
        "print(x)\n",
        "print('\\n')\n"
      ]
    },
    {
      "cell_type": "markdown",
      "metadata": {
        "papermill": {
          "duration": 0.13435,
          "end_time": "2020-12-21T10:11:47.091366",
          "exception": false,
          "start_time": "2020-12-21T10:11:46.957016",
          "status": "completed"
        },
        "tags": [],
        "id": "t3rkQDFQnvu8"
      },
      "source": [
        "# -------------------------------------------------------------------------------------------------------------"
      ]
    }
  ],
  "metadata": {
    "kernelspec": {
      "display_name": "Python 3",
      "language": "python",
      "name": "python3"
    },
    "language_info": {
      "codemirror_mode": {
        "name": "ipython",
        "version": 3
      },
      "file_extension": ".py",
      "mimetype": "text/x-python",
      "name": "python",
      "nbconvert_exporter": "python",
      "pygments_lexer": "ipython3",
      "version": "3.8.8"
    },
    "colab": {
      "provenance": []
    }
  },
  "nbformat": 4,
  "nbformat_minor": 0
}